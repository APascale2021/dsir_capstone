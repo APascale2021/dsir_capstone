{
 "cells": [
  {
   "cell_type": "code",
   "execution_count": 1,
   "metadata": {},
   "outputs": [],
   "source": [
    "import pandas as pd\n",
    "import numpy as np\n",
    "import matplotlib.pyplot as plt\n",
    "import seaborn as sns\n",
    "import os"
   ]
  },
  {
   "cell_type": "code",
   "execution_count": 2,
   "metadata": {},
   "outputs": [
    {
     "name": "stdout",
     "output_type": "stream",
     "text": [
      "CPU times: user 2min 47s, sys: 1min 3s, total: 3min 51s\n",
      "Wall time: 4min 22s\n"
     ]
    }
   ],
   "source": [
    "%time df = pd.read_csv('../data/individual_contributions.csv', low_memory=False)"
   ]
  },
  {
   "cell_type": "code",
   "execution_count": 4,
   "metadata": {},
   "outputs": [],
   "source": [
    "def add_commas(number):\n",
    "    n = str(number)\n",
    "    \n",
    "    if len(n)>6:\n",
    "        return n[:-6]+','+n[-6:-3]+','+n[-3:]\n",
    "    elif len(n)>3:\n",
    "        return n[:-3]+','+n[-3:]\n",
    "    else:\n",
    "        return number"
   ]
  },
  {
   "cell_type": "code",
   "execution_count": 6,
   "metadata": {},
   "outputs": [
    {
     "data": {
      "text/plain": [
       "('24,446,378', 25)"
      ]
     },
     "execution_count": 6,
     "metadata": {},
     "output_type": "execute_result"
    }
   ],
   "source": [
    "(add_commas(df.shape[0]), df.shape[1])"
   ]
  },
  {
   "cell_type": "code",
   "execution_count": 7,
   "metadata": {},
   "outputs": [
    {
     "data": {
      "text/plain": [
       "Index(['id', 'cycle', 'fec_trans_id', 'contributor_id', 'contributor_name',\n",
       "       'recipient_id', 'org_name', 'ult_org', 'real_code', 'date', 'amount',\n",
       "       'street', 'city', 'state', 'zip', 'recip_code', 'type', 'committee_id',\n",
       "       'other_id', 'gender', 'old_format_employer_occupation', 'microfilm',\n",
       "       'occupation', 'employer', 'source'],\n",
       "      dtype='object')"
      ]
     },
     "execution_count": 7,
     "metadata": {},
     "output_type": "execute_result"
    }
   ],
   "source": [
    "df.columns"
   ]
  },
  {
   "cell_type": "code",
   "execution_count": 16,
   "metadata": {},
   "outputs": [],
   "source": [
    "df['amount_mil'] = df['amount'] / 1_000_000"
   ]
  },
  {
   "cell_type": "code",
   "execution_count": 22,
   "metadata": {},
   "outputs": [
    {
     "data": {
      "text/html": [
       "<div>\n",
       "<style scoped>\n",
       "    .dataframe tbody tr th:only-of-type {\n",
       "        vertical-align: middle;\n",
       "    }\n",
       "\n",
       "    .dataframe tbody tr th {\n",
       "        vertical-align: top;\n",
       "    }\n",
       "\n",
       "    .dataframe thead th {\n",
       "        text-align: right;\n",
       "    }\n",
       "</style>\n",
       "<table border=\"1\" class=\"dataframe\">\n",
       "  <thead>\n",
       "    <tr style=\"text-align: right;\">\n",
       "      <th></th>\n",
       "      <th>contributor_name</th>\n",
       "      <th>amount_mil</th>\n",
       "    </tr>\n",
       "  </thead>\n",
       "  <tbody>\n",
       "    <tr>\n",
       "      <th>5457875</th>\n",
       "      <td>MERCER, LEE L MR JR</td>\n",
       "      <td>24.000000</td>\n",
       "    </tr>\n",
       "    <tr>\n",
       "      <th>5636195</th>\n",
       "      <td>STEYER, THOMAS F</td>\n",
       "      <td>16.000000</td>\n",
       "    </tr>\n",
       "    <tr>\n",
       "      <th>24037919</th>\n",
       "      <td>UNITEMIZED TOTAL</td>\n",
       "      <td>10.465912</td>\n",
       "    </tr>\n",
       "    <tr>\n",
       "      <th>23958197</th>\n",
       "      <td>NEUGEBAUER, TOBY</td>\n",
       "      <td>10.000000</td>\n",
       "    </tr>\n",
       "    <tr>\n",
       "      <th>5905890</th>\n",
       "      <td>NaN</td>\n",
       "      <td>9.350125</td>\n",
       "    </tr>\n",
       "    <tr>\n",
       "      <th>828934</th>\n",
       "      <td>AMERICANS FOR TAX REFORM (GENERAL</td>\n",
       "      <td>7.674142</td>\n",
       "    </tr>\n",
       "    <tr>\n",
       "      <th>8191697</th>\n",
       "      <td>SABAN, HAIM MR</td>\n",
       "      <td>7.000000</td>\n",
       "    </tr>\n",
       "    <tr>\n",
       "      <th>10766216</th>\n",
       "      <td>VICTORY CAMPAIGN 2004</td>\n",
       "      <td>6.150000</td>\n",
       "    </tr>\n",
       "    <tr>\n",
       "      <th>18705225</th>\n",
       "      <td>MCMAHON, LINDA</td>\n",
       "      <td>6.000000</td>\n",
       "    </tr>\n",
       "    <tr>\n",
       "      <th>8346487</th>\n",
       "      <td>DEMOCRATIC SENATORIAL CAMPAIGN COM</td>\n",
       "      <td>5.958333</td>\n",
       "    </tr>\n",
       "    <tr>\n",
       "      <th>2527621</th>\n",
       "      <td>RICKETTS, J JOE</td>\n",
       "      <td>5.486382</td>\n",
       "    </tr>\n",
       "    <tr>\n",
       "      <th>18828209</th>\n",
       "      <td>FIORINA, CARLY</td>\n",
       "      <td>5.289500</td>\n",
       "    </tr>\n",
       "    <tr>\n",
       "      <th>813573</th>\n",
       "      <td>HUNTSMAN, JON</td>\n",
       "      <td>5.139481</td>\n",
       "    </tr>\n",
       "    <tr>\n",
       "      <th>1255015</th>\n",
       "      <td>ADELSON, MIRIAM DR</td>\n",
       "      <td>5.000000</td>\n",
       "    </tr>\n",
       "    <tr>\n",
       "      <th>3038271</th>\n",
       "      <td>ADELSON, SHELDON G</td>\n",
       "      <td>5.000000</td>\n",
       "    </tr>\n",
       "    <tr>\n",
       "      <th>23949193</th>\n",
       "      <td>HENDRICKS, DIANE M MS</td>\n",
       "      <td>5.000000</td>\n",
       "    </tr>\n",
       "    <tr>\n",
       "      <th>3245001</th>\n",
       "      <td>ADELSON, MIRIAM</td>\n",
       "      <td>5.000000</td>\n",
       "    </tr>\n",
       "    <tr>\n",
       "      <th>3533085</th>\n",
       "      <td>ADELSON, SHELDON</td>\n",
       "      <td>5.000000</td>\n",
       "    </tr>\n",
       "    <tr>\n",
       "      <th>5392909</th>\n",
       "      <td>NATIONAL EDUCATION ASSOCIATION</td>\n",
       "      <td>5.000000</td>\n",
       "    </tr>\n",
       "    <tr>\n",
       "      <th>24139745</th>\n",
       "      <td>WARREN, KELCY L</td>\n",
       "      <td>5.000000</td>\n",
       "    </tr>\n",
       "    <tr>\n",
       "      <th>1127194</th>\n",
       "      <td>SIMMONS, HAROLD C</td>\n",
       "      <td>5.000000</td>\n",
       "    </tr>\n",
       "    <tr>\n",
       "      <th>24132879</th>\n",
       "      <td>WILKS, JO ANN</td>\n",
       "      <td>5.000000</td>\n",
       "    </tr>\n",
       "    <tr>\n",
       "      <th>23964994</th>\n",
       "      <td>WILKS, FARRIS</td>\n",
       "      <td>5.000000</td>\n",
       "    </tr>\n",
       "    <tr>\n",
       "      <th>23964366</th>\n",
       "      <td>DEASON, DARWIN</td>\n",
       "      <td>5.000000</td>\n",
       "    </tr>\n",
       "    <tr>\n",
       "      <th>4853838</th>\n",
       "      <td>STEYER, THOMAS</td>\n",
       "      <td>5.000000</td>\n",
       "    </tr>\n",
       "    <tr>\n",
       "      <th>19748559</th>\n",
       "      <td>SIGNET BANK/VIRGINIA</td>\n",
       "      <td>4.500000</td>\n",
       "    </tr>\n",
       "    <tr>\n",
       "      <th>3123286</th>\n",
       "      <td>BLOOMBERG, MICHAEL R</td>\n",
       "      <td>4.500000</td>\n",
       "    </tr>\n",
       "    <tr>\n",
       "      <th>16417737</th>\n",
       "      <td>ROMNEY, MITT</td>\n",
       "      <td>4.430500</td>\n",
       "    </tr>\n",
       "    <tr>\n",
       "      <th>11351631</th>\n",
       "      <td>SPANOS, ALEX</td>\n",
       "      <td>4.000000</td>\n",
       "    </tr>\n",
       "    <tr>\n",
       "      <th>11351626</th>\n",
       "      <td>ARNALL, DAWN</td>\n",
       "      <td>4.000000</td>\n",
       "    </tr>\n",
       "  </tbody>\n",
       "</table>\n",
       "</div>"
      ],
      "text/plain": [
       "                            contributor_name  amount_mil\n",
       "5457875                  MERCER, LEE L MR JR   24.000000\n",
       "5636195                     STEYER, THOMAS F   16.000000\n",
       "24037919                    UNITEMIZED TOTAL   10.465912\n",
       "23958197                    NEUGEBAUER, TOBY   10.000000\n",
       "5905890                                  NaN    9.350125\n",
       "828934     AMERICANS FOR TAX REFORM (GENERAL    7.674142\n",
       "8191697                       SABAN, HAIM MR    7.000000\n",
       "10766216               VICTORY CAMPAIGN 2004    6.150000\n",
       "18705225                      MCMAHON, LINDA    6.000000\n",
       "8346487   DEMOCRATIC SENATORIAL CAMPAIGN COM    5.958333\n",
       "2527621                      RICKETTS, J JOE    5.486382\n",
       "18828209                      FIORINA, CARLY    5.289500\n",
       "813573                         HUNTSMAN, JON    5.139481\n",
       "1255015                   ADELSON, MIRIAM DR    5.000000\n",
       "3038271                   ADELSON, SHELDON G    5.000000\n",
       "23949193               HENDRICKS, DIANE M MS    5.000000\n",
       "3245001                      ADELSON, MIRIAM    5.000000\n",
       "3533085                     ADELSON, SHELDON    5.000000\n",
       "5392909       NATIONAL EDUCATION ASSOCIATION    5.000000\n",
       "24139745                     WARREN, KELCY L    5.000000\n",
       "1127194                    SIMMONS, HAROLD C    5.000000\n",
       "24132879                       WILKS, JO ANN    5.000000\n",
       "23964994                       WILKS, FARRIS    5.000000\n",
       "23964366                      DEASON, DARWIN    5.000000\n",
       "4853838                       STEYER, THOMAS    5.000000\n",
       "19748559                SIGNET BANK/VIRGINIA    4.500000\n",
       "3123286                 BLOOMBERG, MICHAEL R    4.500000\n",
       "16417737                        ROMNEY, MITT    4.430500\n",
       "11351631                        SPANOS, ALEX    4.000000\n",
       "11351626                        ARNALL, DAWN    4.000000"
      ]
     },
     "execution_count": 22,
     "metadata": {},
     "output_type": "execute_result"
    }
   ],
   "source": [
    "df.sort_values(by='amount_mil', ascending=False)[['contributor_name', 'amount_mil']].drop_duplicates('contributor_name').head(30)"
   ]
  },
  {
   "cell_type": "code",
   "execution_count": null,
   "metadata": {},
   "outputs": [],
   "source": []
  }
 ],
 "metadata": {
  "kernelspec": {
   "display_name": "Python 3",
   "language": "python",
   "name": "python3"
  },
  "language_info": {
   "codemirror_mode": {
    "name": "ipython",
    "version": 3
   },
   "file_extension": ".py",
   "mimetype": "text/x-python",
   "name": "python",
   "nbconvert_exporter": "python",
   "pygments_lexer": "ipython3",
   "version": "3.8.5"
  }
 },
 "nbformat": 4,
 "nbformat_minor": 4
}
