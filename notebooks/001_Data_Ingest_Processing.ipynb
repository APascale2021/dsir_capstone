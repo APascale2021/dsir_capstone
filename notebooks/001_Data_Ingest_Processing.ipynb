{
 "cells": [
  {
   "cell_type": "markdown",
   "metadata": {},
   "source": [
    "# Campaign Finance Capstone"
   ]
  },
  {
   "cell_type": "code",
   "execution_count": 1,
   "metadata": {},
   "outputs": [],
   "source": [
    "import pandas as pd\n",
    "import numpy as np\n",
    "import matplotlib.pyplot as plt\n",
    "import seaborn as sns\n",
    "\n",
    "import warnings\n",
    "warnings.filterwarnings('ignore')"
   ]
  },
  {
   "cell_type": "markdown",
   "metadata": {},
   "source": [
    "### Import Files"
   ]
  },
  {
   "cell_type": "code",
   "execution_count": 2,
   "metadata": {},
   "outputs": [],
   "source": [
    "sen_2016 = pd.read_csv('../data/individual_contributions/senate/sen_2016_individ_donations.csv')\n",
    "sen_2014 = pd.read_csv('../data/individual_contributions/senate/sen_2014_individ_donations.csv')\n",
    "sen_2012 = pd.read_csv('../data/individual_contributions/senate/sen_2012_individ_donations.csv')\n",
    "sen_2010 = pd.read_csv('../data/individual_contributions/senate/sen_2010_individ_donations.csv')\n",
    "sen_2008 = pd.read_csv('../data/individual_contributions/senate/sen_2008_individ_donations.csv')\n",
    "sen_2006 = pd.read_csv('../data/individual_contributions/senate/sen_2006_individ_donations.csv')\n",
    "sen_2004 = pd.read_csv('../data/individual_contributions/senate/sen_2004_individ_donations.csv')\n",
    "sen_2002 = pd.read_csv('../data/individual_contributions/senate/sen_2002_individ_donations.csv')\n",
    "sen_2000 = pd.read_csv('../data/individual_contributions/senate/sen_2000_individ_donations.csv')\n",
    "sen_1998 = pd.read_csv('../data/individual_contributions/senate/sen_1998_individ_donations.csv')\n",
    "sen_1996 = pd.read_csv('../data/individual_contributions/senate/sen_1996_individ_donations.csv')\n",
    "sen_1994 = pd.read_csv('../data/individual_contributions/senate/sen_1994_individ_donations.csv')\n",
    "sen_1992 = pd.read_csv('../data/individual_contributions/senate/sen_1992_individ_donations.csv')\n",
    "sen_1990 = pd.read_csv('../data/individual_contributions/senate/sen_1990_individ_donations.csv')"
   ]
  },
  {
   "cell_type": "code",
   "execution_count": 3,
   "metadata": {},
   "outputs": [],
   "source": [
    "congr_2016 = pd.read_csv('../data/individual_contributions/house/congr_2016_individ_donations.csv')\n",
    "congr_2014 = pd.read_csv('../data/individual_contributions/house/congr_2014_individ_donations.csv')\n",
    "congr_2012 = pd.read_csv('../data/individual_contributions/house/congr_2012_individ_donations.csv')\n",
    "congr_2010 = pd.read_csv('../data/individual_contributions/house/congr_2010_individ_donations.csv')\n",
    "congr_2008 = pd.read_csv('../data/individual_contributions/house/congr_2008_individ_donations.csv')\n",
    "congr_2006 = pd.read_csv('../data/individual_contributions/house/congr_2006_individ_donations.csv')\n",
    "congr_2004 = pd.read_csv('../data/individual_contributions/house/congr_2004_individ_donations.csv')\n",
    "congr_2002 = pd.read_csv('../data/individual_contributions/house/congr_2002_individ_donations.csv')\n",
    "congr_2000 = pd.read_csv('../data/individual_contributions/house/congr_2000_individ_donations.csv')\n",
    "congr_1998 = pd.read_csv('../data/individual_contributions/house/congr_1998_individ_donations.csv')\n",
    "congr_1996 = pd.read_csv('../data/individual_contributions/house/congr_1996_individ_donations.csv')\n",
    "congr_1994 = pd.read_csv('../data/individual_contributions/house/congr_1994_individ_donations.csv')\n",
    "congr_1992 = pd.read_csv('../data/individual_contributions/house/congr_1992_individ_donations.csv')\n",
    "congr_1990 = pd.read_csv('../data/individual_contributions/house/congr_1990_individ_donations.csv')"
   ]
  },
  {
   "cell_type": "code",
   "execution_count": 38,
   "metadata": {},
   "outputs": [],
   "source": [
    "sen_records = [\n",
    "    sen_2016, sen_2014, sen_2012, sen_2010, sen_2008, sen_2006, sen_2004, sen_2002, sen_2000,\n",
    "    sen_1998, sen_1996, sen_1994, sen_1992, sen_1990]\n",
    "num_sen_records = [round(data.shape[0]/1_000_000, 2) for data in sen_records]"
   ]
  },
  {
   "cell_type": "code",
   "execution_count": 41,
   "metadata": {},
   "outputs": [],
   "source": [
    "congr_records = [\n",
    "    congr_2016, congr_2014, congr_2012, congr_2010, congr_2008, congr_2006, congr_2004, congr_2002, congr_2000,\n",
    "    congr_1998, congr_1996, congr_1994, congr_1992, congr_1990]\n",
    "num_congr_records = [round(data.shape[0]/1_000_000, 2) for data in congr_records]"
   ]
  },
  {
   "cell_type": "code",
   "execution_count": 52,
   "metadata": {},
   "outputs": [
    {
     "data": {
      "text/html": [
       "<div>\n",
       "<style scoped>\n",
       "    .dataframe tbody tr th:only-of-type {\n",
       "        vertical-align: middle;\n",
       "    }\n",
       "\n",
       "    .dataframe tbody tr th {\n",
       "        vertical-align: top;\n",
       "    }\n",
       "\n",
       "    .dataframe thead th {\n",
       "        text-align: right;\n",
       "    }\n",
       "</style>\n",
       "<table border=\"1\" class=\"dataframe\">\n",
       "  <thead>\n",
       "    <tr style=\"text-align: right;\">\n",
       "      <th></th>\n",
       "      <th>Senate</th>\n",
       "      <th>Congress</th>\n",
       "    </tr>\n",
       "  </thead>\n",
       "  <tbody>\n",
       "    <tr>\n",
       "      <th>16</th>\n",
       "      <td>0.22</td>\n",
       "      <td>0.24</td>\n",
       "    </tr>\n",
       "    <tr>\n",
       "      <th>14</th>\n",
       "      <td>0.46</td>\n",
       "      <td>0.79</td>\n",
       "    </tr>\n",
       "    <tr>\n",
       "      <th>12</th>\n",
       "      <td>1.63</td>\n",
       "      <td>1.64</td>\n",
       "    </tr>\n",
       "    <tr>\n",
       "      <th>10</th>\n",
       "      <td>0.61</td>\n",
       "      <td>0.96</td>\n",
       "    </tr>\n",
       "    <tr>\n",
       "      <th>08</th>\n",
       "      <td>1.73</td>\n",
       "      <td>1.49</td>\n",
       "    </tr>\n",
       "    <tr>\n",
       "      <th>06</th>\n",
       "      <td>0.51</td>\n",
       "      <td>0.77</td>\n",
       "    </tr>\n",
       "    <tr>\n",
       "      <th>04</th>\n",
       "      <td>0.72</td>\n",
       "      <td>0.66</td>\n",
       "    </tr>\n",
       "    <tr>\n",
       "      <th>02</th>\n",
       "      <td>0.41</td>\n",
       "      <td>0.57</td>\n",
       "    </tr>\n",
       "    <tr>\n",
       "      <th>00</th>\n",
       "      <td>0.56</td>\n",
       "      <td>0.60</td>\n",
       "    </tr>\n",
       "    <tr>\n",
       "      <th>98</th>\n",
       "      <td>0.31</td>\n",
       "      <td>0.42</td>\n",
       "    </tr>\n",
       "    <tr>\n",
       "      <th>96</th>\n",
       "      <td>0.41</td>\n",
       "      <td>0.45</td>\n",
       "    </tr>\n",
       "    <tr>\n",
       "      <th>94</th>\n",
       "      <td>0.30</td>\n",
       "      <td>0.34</td>\n",
       "    </tr>\n",
       "    <tr>\n",
       "      <th>92</th>\n",
       "      <td>0.26</td>\n",
       "      <td>0.30</td>\n",
       "    </tr>\n",
       "    <tr>\n",
       "      <th>90</th>\n",
       "      <td>0.18</td>\n",
       "      <td>0.17</td>\n",
       "    </tr>\n",
       "  </tbody>\n",
       "</table>\n",
       "</div>"
      ],
      "text/plain": [
       "    Senate  Congress\n",
       "16    0.22      0.24\n",
       "14    0.46      0.79\n",
       "12    1.63      1.64\n",
       "10    0.61      0.96\n",
       "08    1.73      1.49\n",
       "06    0.51      0.77\n",
       "04    0.72      0.66\n",
       "02    0.41      0.57\n",
       "00    0.56      0.60\n",
       "98    0.31      0.42\n",
       "96    0.41      0.45\n",
       "94    0.30      0.34\n",
       "92    0.26      0.30\n",
       "90    0.18      0.17"
      ]
     },
     "execution_count": 52,
     "metadata": {},
     "output_type": "execute_result"
    }
   ],
   "source": [
    "years = ['16', '14', '12', '10', '08', '06', '04', '02', '00', '98', '96', '94', '92', '90']\n",
    "all_records = pd.DataFrame(num_sen_records, columns=['Senate'], index=years)\n",
    "all_records['Congress'] = pd.DataFrame(num_congr_records, columns=['Congress'], index=years)\n",
    "all_records"
   ]
  },
  {
   "cell_type": "code",
   "execution_count": 43,
   "metadata": {},
   "outputs": [
    {
     "data": {
      "text/plain": [
       "Senate      8.31\n",
       "Congress    9.40\n",
       "dtype: float64"
      ]
     },
     "execution_count": 43,
     "metadata": {},
     "output_type": "execute_result"
    }
   ],
   "source": [
    "all_records.sum()"
   ]
  },
  {
   "cell_type": "code",
   "execution_count": 53,
   "metadata": {},
   "outputs": [
    {
     "data": {
      "image/png": "[encoded data removed]",
      "text/plain": [
       "<Figure size 432x288 with 1 Axes>"
      ]
     },
     "metadata": {
      "needs_background": "light"
     },
     "output_type": "display_data"
    }
   ],
   "source": [
    "all_records.plot(kind='bar')\n",
    "plt.xticks(rotation = 0)\n",
    "plt.title(\"Number of Individual Donations (in millions)\")\n",
    "plt.ylabel(\"Millions of donations\")\n",
    "plt.xlabel(\"Campaign Cycle\")\n",
    "plt.legend();"
   ]
  },
  {
   "cell_type": "markdown",
   "metadata": {},
   "source": [
    "### Pre-processing"
   ]
  },
  {
   "cell_type": "code",
   "execution_count": 9,
   "metadata": {},
   "outputs": [],
   "source": [
    "# def clean_df(df):\n",
    "#     df['first_last_party'] = [full_name[:-4] for full_name in df['first_last_party']]\n",
    "#     df['dist_id_run_for'] = [office[:2] for office in df['dist_id_run_for']]\n",
    "#     df['recip_code'] = [code[-1] for code in df['recip_code']]\n",
    "#     df.rename(columns={'first_last_party':'candidate_name', 'dist_id_run_for':'state_run_for'}, inplace=True)\n",
    "#     df['date_donated'] = pd.to_datetime(df['date_donated'])\n",
    "#     return df"
   ]
  },
  {
   "cell_type": "code",
   "execution_count": null,
   "metadata": {},
   "outputs": [],
   "source": []
  }
 ],
 "metadata": {
  "kernelspec": {
   "display_name": "Python 3",
   "language": "python",
   "name": "python3"
  },
  "language_info": {
   "codemirror_mode": {
    "name": "ipython",
    "version": 3
   },
   "file_extension": ".py",
   "mimetype": "text/x-python",
   "name": "python",
   "nbconvert_exporter": "python",
   "pygments_lexer": "ipython3",
   "version": "3.8.5"
  }
 },
 "nbformat": 4,
 "nbformat_minor": 4
}
