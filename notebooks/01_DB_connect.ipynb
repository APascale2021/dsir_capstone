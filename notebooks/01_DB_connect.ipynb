{
 "cells": [
  {
   "cell_type": "code",
   "execution_count": 1,
   "metadata": {},
   "outputs": [],
   "source": [
    "import pandas as pd\n",
    "import numpy as np\n",
    "import matplotlib.pyplot as plt\n",
    "import os\n",
    "\n",
    "import psycopg2\n",
    "import warnings\n",
    "warnings.filterwarnings('ignore')"
   ]
  },
  {
   "cell_type": "code",
   "execution_count": 2,
   "metadata": {},
   "outputs": [],
   "source": [
    "file = open(\"db_login.txt\", 'r')\n",
    "logins = file.readlines()\n",
    "\n",
    "for i, line in enumerate(logins):\n",
    "    logins[i] = line.split('\\n')[0]\n",
    "    \n",
    "file.close()\n",
    "\n",
    "connect_params = {\n",
    "     \"host\"      : logins[0],\n",
    "     \"database\"  : logins[1],\n",
    "     \"user\"      : logins[2],\n",
    "     \"password\"  : logins[3]\n",
    "}"
   ]
  },
  {
   "cell_type": "code",
   "execution_count": 3,
   "metadata": {},
   "outputs": [],
   "source": [
    "def connect(conn_params):\n",
    "    conn = None\n",
    "    \n",
    "    try:\n",
    "        print('Connecting to the PostgreSQL database...')\n",
    "        conn = psycopg2.connect(**conn_params)\n",
    "    except (Exception, psycopg2.DatabaseError) as error:\n",
    "        print(error)\n",
    "        sys.exit(1)\n",
    "        \n",
    "    print(\"Connection successful\")\n",
    "    \n",
    "    return conn"
   ]
  },
  {
   "cell_type": "code",
   "execution_count": 4,
   "metadata": {},
   "outputs": [
    {
     "name": "stdout",
     "output_type": "stream",
     "text": [
      "Connecting to the PostgreSQL database...\n",
      "Connection successful\n"
     ]
    }
   ],
   "source": [
    "conn = connect(connect_params)"
   ]
  },
  {
   "cell_type": "code",
   "execution_count": 5,
   "metadata": {},
   "outputs": [],
   "source": [
    "def postgresql_to_dataframe(conn, select_query, column_headers):\n",
    "    cursor = conn.cursor()\n",
    "    \n",
    "    try:\n",
    "        cursor.execute(select_query)\n",
    "    except (Exception, psycopg2.DatabaseError) as error:\n",
    "        print(\"Error: %s\" % error)\n",
    "        cursor.close()\n",
    "        return 1\n",
    "    \n",
    "    tuples = cursor.fetchall()\n",
    "    cursor.close()\n",
    "    \n",
    "    df = pd.DataFrame(tuples, columns=column_headers)\n",
    "    return df"
   ]
  },
  {
   "cell_type": "markdown",
   "metadata": {},
   "source": [
    "## Candidates Database"
   ]
  },
  {
   "cell_type": "markdown",
   "metadata": {},
   "source": [
    "#### Congressional Candidates"
   ]
  },
  {
   "cell_type": "code",
   "execution_count": null,
   "metadata": {},
   "outputs": [],
   "source": [
    "# All Congressional Candidates\n",
    "query1 = \"\"\"\n",
    "SELECT cycle, cid, first_last_party, party, dist_id_run_for, current_candidate, cycle_candidate, recip_code,\n",
    "raised_from_pacs, raised_from_individuals, raised_total, raised_unitemized\n",
    "FROM candidates\n",
    "WHERE dist_id_run_for NOT LIKE 'PRES' AND dist_id_run_for NOT LIKE '__S_'\n",
    "\"\"\""
   ]
  },
  {
   "cell_type": "code",
   "execution_count": null,
   "metadata": {},
   "outputs": [],
   "source": [
    "col_names_1 = ['cycle', 'id', 'candidate_name', 'party', 'district', 'current_candidate', 'cycle_candidate',\n",
    "               'recip_code', 'raised_from_pacs', 'raised_from_individuals', 'raised_total', 'raised_unitemized']"
   ]
  },
  {
   "cell_type": "code",
   "execution_count": null,
   "metadata": {},
   "outputs": [],
   "source": [
    "all_congr_candids = postgresql_to_dataframe(conn, query1, col_names_1)\n",
    "all_congr_candids"
   ]
  },
  {
   "cell_type": "code",
   "execution_count": null,
   "metadata": {},
   "outputs": [],
   "source": [
    "# Insert State Column\n",
    "congr_states = [state[:2] for state in all_congr_candids['district']]\n",
    "all_congr_candids.insert(4, 'state', congr_states)\n",
    "\n",
    "# Extract Just District Number\n",
    "districts = [state[-2:] for state in all_congr_candids['district']]\n",
    "all_congr_candids['district'] = districts\n",
    "\n",
    "# Remove Party Affliation from Name\n",
    "all_congr_candids['candidate_name'] = [name[:-4] for name in all_congr_candids['candidate_name']]"
   ]
  },
  {
   "cell_type": "code",
   "execution_count": null,
   "metadata": {},
   "outputs": [],
   "source": [
    "all_congr_candids.head()"
   ]
  },
  {
   "cell_type": "markdown",
   "metadata": {},
   "source": [
    "#### Senate Candidates"
   ]
  },
  {
   "cell_type": "code",
   "execution_count": null,
   "metadata": {},
   "outputs": [],
   "source": [
    "# All Senate Candidates\n",
    "query2 = \"\"\"\n",
    "SELECT cycle, cid, first_last_party, party, dist_id_run_for, current_candidate, cycle_candidate, recip_code,\n",
    "raised_from_pacs, raised_from_individuals, raised_total, raised_unitemized\n",
    "FROM candidates\n",
    "WHERE dist_id_run_for NOT LIKE 'PRES' AND dist_id_run_for LIKE '__S_'\n",
    "\"\"\""
   ]
  },
  {
   "cell_type": "code",
   "execution_count": null,
   "metadata": {},
   "outputs": [],
   "source": [
    "col_names_2 = ['cycle', 'id', 'candidate_name', 'party', 'district', 'current_candidate', 'cycle_candidate',\n",
    "               'recip_code', 'raised_from_pacs', 'raised_from_individuals', 'raised_total', 'raised_unitemized']"
   ]
  },
  {
   "cell_type": "code",
   "execution_count": null,
   "metadata": {},
   "outputs": [],
   "source": [
    "all_sen_candids = postgresql_to_dataframe(conn, query2, col_names_2)\n",
    "all_sen_candids"
   ]
  },
  {
   "cell_type": "code",
   "execution_count": null,
   "metadata": {},
   "outputs": [],
   "source": [
    "# Insert State Column\n",
    "sen_states = [state[:2] for state in all_sen_candids['district']]\n",
    "all_sen_candids.insert(4, 'state', sen_states)\n",
    "\n",
    "# Replace all District Numbers with Null Values\n",
    "all_sen_candids['district'] = [np.nan for district in all_sen_candids['district']]\n",
    "\n",
    "# Remove Party Affliation from Name\n",
    "all_sen_candids['candidate_name'] = [name[:-4] for name in all_sen_candids['candidate_name']]"
   ]
  },
  {
   "cell_type": "code",
   "execution_count": null,
   "metadata": {},
   "outputs": [],
   "source": [
    "all_sen_candids.head()"
   ]
  },
  {
   "cell_type": "code",
   "execution_count": null,
   "metadata": {},
   "outputs": [],
   "source": [
    "# Append both House and Senate Candidate Info\n",
    "all_candidates = all_congr_candids.append(all_sen_candids)\n",
    "all_candidates"
   ]
  },
  {
   "cell_type": "code",
   "execution_count": null,
   "metadata": {},
   "outputs": [],
   "source": [
    "# Exclude any candidates from U.S. Territories\n",
    "us_territories = ['AS', 'GU', 'MH', 'MP', 'PR', 'Pr', 'VI']\n",
    "boolean_filter = ~all_candidates.state.isin(us_territories)\n",
    "all_CONUS_candidates = all_candidates[boolean_filter]\n",
    "all_CONUS_candidates"
   ]
  },
  {
   "cell_type": "code",
   "execution_count": null,
   "metadata": {},
   "outputs": [],
   "source": [
    "all_CONUS_candidates.to_csv('../data/all_CONUS_candidates.csv', index=False)"
   ]
  },
  {
   "cell_type": "markdown",
   "metadata": {},
   "source": [
    "---\n",
    "# Individual Donations Database"
   ]
  },
  {
   "cell_type": "code",
   "execution_count": null,
   "metadata": {},
   "outputs": [],
   "source": [
    "cycle = 1990"
   ]
  },
  {
   "cell_type": "markdown",
   "metadata": {},
   "source": [
    "#### Senate Campaigns"
   ]
  },
  {
   "cell_type": "code",
   "execution_count": null,
   "metadata": {},
   "outputs": [],
   "source": [
    "# All Senate Individual Donations\n",
    "query3 = \"\"\"\n",
    "SELECT DISTINCT(i.fec_trans_id), i.cycle, i.date_donated, i.recipient_id, i.contributor_id, i.contributor_name,\n",
    "i.org_name, i.ult_org, i.amount, i.city, i.state, i.recip_code, i.type, i.gender, i.occupation, i.employer\n",
    "FROM individual_contributions AS i\n",
    "INNER JOIN candidates AS c on i.recipient_id = c.cid\n",
    "WHERE i.cycle=\"\"\"+str(cycle)+\"\"\" AND i.recipient_id LIKE 'N%' AND\n",
    "c.dist_id_run_for NOT LIKE 'PRES' AND c.dist_id_run_for LIKE '__S_'\n",
    "\"\"\""
   ]
  },
  {
   "cell_type": "code",
   "execution_count": null,
   "metadata": {},
   "outputs": [],
   "source": [
    "col_names_3 = ['transaction_id', 'cycle', 'date', 'recipient_id', 'contributor_id', 'contributor_name',\n",
    "               'org_name', 'ult_org', 'amount', 'city', 'state', 'recip_code', 'type',\n",
    "               'gender', 'occupation', 'employer']"
   ]
  },
  {
   "cell_type": "code",
   "execution_count": null,
   "metadata": {},
   "outputs": [],
   "source": [
    "df1 = postgresql_to_dataframe(conn, query3, col_names_3)\n",
    "df1.head(5)"
   ]
  },
  {
   "cell_type": "code",
   "execution_count": null,
   "metadata": {},
   "outputs": [],
   "source": [
    "df1.to_csv('../data/individual_contributions/senate/sen_'+str(cycle)+'_individ_donations.csv', index=False)"
   ]
  },
  {
   "cell_type": "markdown",
   "metadata": {},
   "source": [
    "#### Congressional Campaigns"
   ]
  },
  {
   "cell_type": "code",
   "execution_count": null,
   "metadata": {},
   "outputs": [],
   "source": [
    "# All Congressional Individual Donations\n",
    "query4 = \"\"\"\n",
    "SELECT DISTINCT(i.fec_trans_id), i.cycle, i.date_donated, i.recipient_id, i.contributor_id, i.contributor_name, i.org_name,\n",
    "i.ult_org, i.amount, i.city, i.state, i.recip_code, i.type, i.gender, i.occupation, i.employer\n",
    "FROM individual_contributions AS i\n",
    "INNER JOIN candidates AS c on i.recipient_id = c.cid\n",
    "WHERE i.cycle=\"\"\"+str(cycle)+\"\"\" AND i.recipient_id LIKE 'N%' AND\n",
    "c.dist_id_run_for NOT LIKE 'PRES' AND c.dist_id_run_for NOT LIKE '__S_'\n",
    "\"\"\""
   ]
  },
  {
   "cell_type": "code",
   "execution_count": null,
   "metadata": {},
   "outputs": [],
   "source": [
    "df2 = postgresql_to_dataframe(conn, query4, col_names_3)\n",
    "df2.tail(5)"
   ]
  },
  {
   "cell_type": "code",
   "execution_count": null,
   "metadata": {},
   "outputs": [],
   "source": [
    "df2.to_csv('../data/individual_contributions/house/congr_'+str(cycle)+'_individ_donations.csv', index=False)"
   ]
  },
  {
   "cell_type": "markdown",
   "metadata": {},
   "source": [
    "---\n",
    "# PAC Donations"
   ]
  },
  {
   "cell_type": "code",
   "execution_count": null,
   "metadata": {},
   "outputs": [],
   "source": [
    "cycle = 2016"
   ]
  },
  {
   "cell_type": "code",
   "execution_count": null,
   "metadata": {},
   "outputs": [],
   "source": [
    "# All PAC Donations\n",
    "query5 = \"\"\"\n",
    "SELECT p.cycle, p.date_donated, p.pac_id, r.pac_short, p.amount, p.cid, p.real_code, p.type, r.recip_code, p.di\n",
    "FROM pacs AS p\n",
    "INNER JOIN pac_records AS r ON p.pac_id = r.committee_id\n",
    "WHERE p.cycle = \"\"\"+str(cycle)"
   ]
  },
  {
   "cell_type": "code",
   "execution_count": null,
   "metadata": {},
   "outputs": [],
   "source": [
    "col_names_5 = ['cycle', 'date_donated', 'pac_id', 'pac_name', 'amount', 'candidate_id', 'industry_code',\n",
    "               'type', 'recip_code', 'direct']"
   ]
  },
  {
   "cell_type": "code",
   "execution_count": null,
   "metadata": {},
   "outputs": [],
   "source": [
    "df3 = postgresql_to_dataframe(conn, query5, col_names_5)\n",
    "df3"
   ]
  },
  {
   "cell_type": "code",
   "execution_count": null,
   "metadata": {},
   "outputs": [],
   "source": [
    "df3.to_csv('../data/pacs/'+str(cycle)+'_pac_donations.csv', index=False)"
   ]
  },
  {
   "cell_type": "code",
   "execution_count": 6,
   "metadata": {},
   "outputs": [],
   "source": [
    "conn.close()"
   ]
  },
  {
   "cell_type": "markdown",
   "metadata": {},
   "source": [
    "---\n",
    "# Total Number of Records per Database"
   ]
  },
  {
   "cell_type": "code",
   "execution_count": 7,
   "metadata": {},
   "outputs": [],
   "source": [
    "pacs_2014 = pd.read_csv('../data/pacs/2014_pac_donations.csv')\n",
    "pacs_2012 = pd.read_csv('../data/pacs/2012_pac_donations.csv')\n",
    "pacs_2010 = pd.read_csv('../data/pacs/2010_pac_donations.csv')\n",
    "pacs_2008 = pd.read_csv('../data/pacs/2008_pac_donations.csv')\n",
    "pacs_2006 = pd.read_csv('../data/pacs/2006_pac_donations.csv')\n",
    "pacs_2004 = pd.read_csv('../data/pacs/2004_pac_donations.csv')\n",
    "pacs_2002 = pd.read_csv('../data/pacs/2002_pac_donations.csv')\n",
    "pacs_2000 = pd.read_csv('../data/pacs/2000_pac_donations.csv')"
   ]
  },
  {
   "cell_type": "code",
   "execution_count": 8,
   "metadata": {},
   "outputs": [],
   "source": [
    "sen_2014 = pd.read_csv('../data/individual_contributions/senate/sen_2014_individ_donations.csv')\n",
    "sen_2012 = pd.read_csv('../data/individual_contributions/senate/sen_2012_individ_donations.csv')\n",
    "sen_2010 = pd.read_csv('../data/individual_contributions/senate/sen_2010_individ_donations.csv')\n",
    "sen_2008 = pd.read_csv('../data/individual_contributions/senate/sen_2008_individ_donations.csv')\n",
    "sen_2006 = pd.read_csv('../data/individual_contributions/senate/sen_2006_individ_donations.csv')\n",
    "sen_2004 = pd.read_csv('../data/individual_contributions/senate/sen_2004_individ_donations.csv')\n",
    "sen_2002 = pd.read_csv('../data/individual_contributions/senate/sen_2002_individ_donations.csv')\n",
    "sen_2000 = pd.read_csv('../data/individual_contributions/senate/sen_2000_individ_donations.csv')"
   ]
  },
  {
   "cell_type": "code",
   "execution_count": 9,
   "metadata": {},
   "outputs": [],
   "source": [
    "congr_2014 = pd.read_csv('../data/individual_contributions/house/congr_2014_individ_donations.csv')\n",
    "congr_2012 = pd.read_csv('../data/individual_contributions/house/congr_2012_individ_donations.csv')\n",
    "congr_2010 = pd.read_csv('../data/individual_contributions/house/congr_2010_individ_donations.csv')\n",
    "congr_2008 = pd.read_csv('../data/individual_contributions/house/congr_2008_individ_donations.csv')\n",
    "congr_2006 = pd.read_csv('../data/individual_contributions/house/congr_2006_individ_donations.csv')\n",
    "congr_2004 = pd.read_csv('../data/individual_contributions/house/congr_2004_individ_donations.csv')\n",
    "congr_2002 = pd.read_csv('../data/individual_contributions/house/congr_2002_individ_donations.csv')\n",
    "congr_2000 = pd.read_csv('../data/individual_contributions/house/congr_2000_individ_donations.csv')"
   ]
  },
  {
   "cell_type": "code",
   "execution_count": 10,
   "metadata": {},
   "outputs": [],
   "source": [
    "# Combine data from each cycle into one comprehensive DataFrame\n",
    "pac_records = [\n",
    "    pacs_2014, pacs_2012, pacs_2010, pacs_2008, pacs_2006, pacs_2004, pacs_2002, pacs_2000]\n",
    "num_pac_records = [round(data.shape[0]/1_000_000, 2) for data in pac_records]\n",
    "\n",
    "congr_records = [\n",
    "    congr_2014, congr_2012, congr_2010, congr_2008, congr_2006, congr_2004, congr_2002, congr_2000]\n",
    "num_congr_records = [round(data.shape[0]/1_000_000, 2) for data in congr_records]\n",
    "\n",
    "sen_records = [\n",
    "    sen_2014, sen_2012, sen_2010, sen_2008, sen_2006, sen_2004, sen_2002, sen_2000]\n",
    "num_sen_records = [round(data.shape[0]/1_000_000, 2) for data in sen_records]"
   ]
  },
  {
   "cell_type": "code",
   "execution_count": 11,
   "metadata": {},
   "outputs": [
    {
     "data": {
      "text/html": [
       "<div>\n",
       "<style scoped>\n",
       "    .dataframe tbody tr th:only-of-type {\n",
       "        vertical-align: middle;\n",
       "    }\n",
       "\n",
       "    .dataframe tbody tr th {\n",
       "        vertical-align: top;\n",
       "    }\n",
       "\n",
       "    .dataframe thead th {\n",
       "        text-align: right;\n",
       "    }\n",
       "</style>\n",
       "<table border=\"1\" class=\"dataframe\">\n",
       "  <thead>\n",
       "    <tr style=\"text-align: right;\">\n",
       "      <th></th>\n",
       "      <th>Senate</th>\n",
       "      <th>Congress</th>\n",
       "      <th>PACs</th>\n",
       "    </tr>\n",
       "  </thead>\n",
       "  <tbody>\n",
       "    <tr>\n",
       "      <th>14</th>\n",
       "      <td>0.46</td>\n",
       "      <td>0.79</td>\n",
       "      <td>0.30</td>\n",
       "    </tr>\n",
       "    <tr>\n",
       "      <th>12</th>\n",
       "      <td>1.63</td>\n",
       "      <td>1.64</td>\n",
       "      <td>0.39</td>\n",
       "    </tr>\n",
       "    <tr>\n",
       "      <th>10</th>\n",
       "      <td>0.61</td>\n",
       "      <td>0.96</td>\n",
       "      <td>0.32</td>\n",
       "    </tr>\n",
       "    <tr>\n",
       "      <th>08</th>\n",
       "      <td>1.73</td>\n",
       "      <td>1.49</td>\n",
       "      <td>0.30</td>\n",
       "    </tr>\n",
       "    <tr>\n",
       "      <th>06</th>\n",
       "      <td>0.51</td>\n",
       "      <td>0.77</td>\n",
       "      <td>0.27</td>\n",
       "    </tr>\n",
       "    <tr>\n",
       "      <th>04</th>\n",
       "      <td>0.72</td>\n",
       "      <td>0.66</td>\n",
       "      <td>0.25</td>\n",
       "    </tr>\n",
       "    <tr>\n",
       "      <th>02</th>\n",
       "      <td>0.41</td>\n",
       "      <td>0.57</td>\n",
       "      <td>0.24</td>\n",
       "    </tr>\n",
       "    <tr>\n",
       "      <th>00</th>\n",
       "      <td>0.56</td>\n",
       "      <td>0.60</td>\n",
       "      <td>0.25</td>\n",
       "    </tr>\n",
       "  </tbody>\n",
       "</table>\n",
       "</div>"
      ],
      "text/plain": [
       "    Senate  Congress  PACs\n",
       "14    0.46      0.79  0.30\n",
       "12    1.63      1.64  0.39\n",
       "10    0.61      0.96  0.32\n",
       "08    1.73      1.49  0.30\n",
       "06    0.51      0.77  0.27\n",
       "04    0.72      0.66  0.25\n",
       "02    0.41      0.57  0.24\n",
       "00    0.56      0.60  0.25"
      ]
     },
     "execution_count": 11,
     "metadata": {},
     "output_type": "execute_result"
    }
   ],
   "source": [
    "years = ['14', '12', '10', '08', '06', '04', '02', '00']\n",
    "all_records = pd.DataFrame(num_sen_records, columns=['Senate'], index=years)\n",
    "all_records['Congress'] = pd.DataFrame(num_congr_records, columns=['Congress'], index=years)\n",
    "all_records['PACs'] = pd.DataFrame(num_pac_records, columns=['PACs'], index=years)\n",
    "all_records"
   ]
  },
  {
   "cell_type": "code",
   "execution_count": 12,
   "metadata": {},
   "outputs": [
    {
     "data": {
      "text/plain": [
       "Senate      6.63\n",
       "Congress    7.48\n",
       "PACs        2.32\n",
       "dtype: float64"
      ]
     },
     "execution_count": 12,
     "metadata": {},
     "output_type": "execute_result"
    }
   ],
   "source": [
    "# Millions of records per category\n",
    "all_records.sum()"
   ]
  },
  {
   "cell_type": "code",
   "execution_count": 13,
   "metadata": {},
   "outputs": [
    {
     "data": {
      "image/png": "[encoded data removed]",
      "text/plain": [
       "<Figure size 432x288 with 1 Axes>"
      ]
     },
     "metadata": {
      "needs_background": "light"
     },
     "output_type": "display_data"
    }
   ],
   "source": [
    "all_records.plot(kind='bar')\n",
    "plt.xticks(rotation = 0)\n",
    "plt.title(\"Number of Individual Donations (in millions)\")\n",
    "plt.ylabel(\"Millions of donations\")\n",
    "plt.xlabel(\"Campaign Cycle\")\n",
    "plt.legend();"
   ]
  },
  {
   "cell_type": "code",
   "execution_count": null,
   "metadata": {},
   "outputs": [],
   "source": []
  }
 ],
 "metadata": {
  "kernelspec": {
   "display_name": "Python 3",
   "language": "python",
   "name": "python3"
  },
  "language_info": {
   "codemirror_mode": {
    "name": "ipython",
    "version": 3
   },
   "file_extension": ".py",
   "mimetype": "text/x-python",
   "name": "python",
   "nbconvert_exporter": "python",
   "pygments_lexer": "ipython3",
   "version": "3.8.5"
  }
 },
 "nbformat": 4,
 "nbformat_minor": 4
}
