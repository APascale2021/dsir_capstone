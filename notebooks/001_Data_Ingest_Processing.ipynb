{
 "cells": [
  {
   "cell_type": "markdown",
   "metadata": {},
   "source": [
    "# Campaign Finance Capstone"
   ]
  },
  {
   "cell_type": "code",
   "execution_count": 1,
   "metadata": {},
   "outputs": [],
   "source": [
    "import pandas as pd\n",
    "import numpy as np\n",
    "import matplotlib.pyplot as plt\n",
    "import seaborn as sns\n",
    "\n",
    "import warnings\n",
    "warnings.filterwarnings('ignore')"
   ]
  },
  {
   "cell_type": "markdown",
   "metadata": {},
   "source": [
    "### Import Files"
   ]
  },
  {
   "cell_type": "code",
   "execution_count": 2,
   "metadata": {},
   "outputs": [
    {
     "name": "stdout",
     "output_type": "stream",
     "text": [
      "CPU times: user 1.98 s, sys: 212 ms, total: 2.19 s\n",
      "Wall time: 2.2 s\n"
     ]
    }
   ],
   "source": [
    "%time sen_2016 = pd.read_csv('../data/2016-SEN.csv')"
   ]
  },
  {
   "cell_type": "code",
   "execution_count": 3,
   "metadata": {},
   "outputs": [
    {
     "name": "stdout",
     "output_type": "stream",
     "text": [
      "CPU times: user 3.19 s, sys: 351 ms, total: 3.54 s\n",
      "Wall time: 3.56 s\n"
     ]
    }
   ],
   "source": [
    "%time sen_2014 = pd.read_csv('../data/2014-SEN.csv')"
   ]
  },
  {
   "cell_type": "code",
   "execution_count": 4,
   "metadata": {},
   "outputs": [],
   "source": [
    "#%time sen_2012 = pd.read_csv('../data/2012-SEN.csv')"
   ]
  },
  {
   "cell_type": "code",
   "execution_count": 5,
   "metadata": {},
   "outputs": [
    {
     "name": "stdout",
     "output_type": "stream",
     "text": [
      "CPU times: user 5.26 s, sys: 605 ms, total: 5.86 s\n",
      "Wall time: 5.88 s\n"
     ]
    }
   ],
   "source": [
    "%time sen_2010 = pd.read_csv('../data/2010-SEN.csv')"
   ]
  },
  {
   "cell_type": "markdown",
   "metadata": {},
   "source": [
    "### Pre-processing"
   ]
  },
  {
   "cell_type": "code",
   "execution_count": 6,
   "metadata": {},
   "outputs": [],
   "source": [
    "def clean_df(df):\n",
    "    df['first_last_party'] = [full_name[:-4] for full_name in df['first_last_party']]\n",
    "    df['dist_id_run_for'] = [office[:2] for office in df['dist_id_run_for']]\n",
    "    df['recip_code'] = [code[-1] for code in df['recip_code']]\n",
    "    df.rename(columns={'first_last_party':'candidate_name', 'dist_id_run_for':'state_run_for'}, inplace=True)\n",
    "    df['date'] = pd.to_datetime(df['date'])\n",
    "    return df"
   ]
  },
  {
   "cell_type": "code",
   "execution_count": 7,
   "metadata": {},
   "outputs": [],
   "source": [
    "# Pre-process datasets\n",
    "sen_2016 = clean_df(sen_2016)\n",
    "sen_2014 = clean_df(sen_2014)\n",
    "#sen_2012 = clean_df(sen_2012)\n",
    "sen_2010 = clean_df(sen_2010)"
   ]
  },
  {
   "cell_type": "code",
   "execution_count": 8,
   "metadata": {},
   "outputs": [],
   "source": [
    "def add_commas(number):\n",
    "    n = str(number)\n",
    "    \n",
    "    if len(n)>6:\n",
    "        return n[:-6]+','+n[-6:-3]+','+n[-3:]\n",
    "    elif len(n)>3:\n",
    "        return n[:-3]+','+n[-3:]\n",
    "    else:\n",
    "        return number"
   ]
  },
  {
   "cell_type": "code",
   "execution_count": 9,
   "metadata": {},
   "outputs": [
    {
     "name": "stdout",
     "output_type": "stream",
     "text": [
      "2016 Sen - 1,490,703 records\n",
      "2014 Sen - 2,344,154 records\n",
      "2010 Sen - 4,261,836 records\n"
     ]
    }
   ],
   "source": [
    "print(f\"2016 Sen - {add_commas(sen_2016.shape[0])} records\")\n",
    "print(f\"2014 Sen - {add_commas(sen_2014.shape[0])} records\")\n",
    "print(f\"2010 Sen - {add_commas(sen_2010.shape[0])} records\")"
   ]
  },
  {
   "cell_type": "markdown",
   "metadata": {},
   "source": [
    "## EDA"
   ]
  },
  {
   "cell_type": "code",
   "execution_count": 10,
   "metadata": {},
   "outputs": [
    {
     "data": {
      "text/html": [
       "<div>\n",
       "<style scoped>\n",
       "    .dataframe tbody tr th:only-of-type {\n",
       "        vertical-align: middle;\n",
       "    }\n",
       "\n",
       "    .dataframe tbody tr th {\n",
       "        vertical-align: top;\n",
       "    }\n",
       "\n",
       "    .dataframe thead th {\n",
       "        text-align: right;\n",
       "    }\n",
       "</style>\n",
       "<table border=\"1\" class=\"dataframe\">\n",
       "  <thead>\n",
       "    <tr style=\"text-align: right;\">\n",
       "      <th></th>\n",
       "      <th>date</th>\n",
       "      <th>cycle</th>\n",
       "      <th>candidate_name</th>\n",
       "      <th>party</th>\n",
       "      <th>state_run_for</th>\n",
       "      <th>recip_code</th>\n",
       "      <th>raised_total</th>\n",
       "      <th>org_name</th>\n",
       "      <th>employer</th>\n",
       "      <th>ult_org</th>\n",
       "      <th>type</th>\n",
       "      <th>gender</th>\n",
       "      <th>city</th>\n",
       "      <th>state</th>\n",
       "      <th>amount</th>\n",
       "    </tr>\n",
       "  </thead>\n",
       "  <tbody>\n",
       "    <tr>\n",
       "      <th>0</th>\n",
       "      <td>2009-01-13</td>\n",
       "      <td>2010</td>\n",
       "      <td>John McCain</td>\n",
       "      <td>R</td>\n",
       "      <td>AZ</td>\n",
       "      <td>W</td>\n",
       "      <td>5239565</td>\n",
       "      <td>NaN</td>\n",
       "      <td>NaN</td>\n",
       "      <td>NaN</td>\n",
       "      <td>22Y</td>\n",
       "      <td>F</td>\n",
       "      <td>TORRANCE</td>\n",
       "      <td>CA</td>\n",
       "      <td>-25</td>\n",
       "    </tr>\n",
       "    <tr>\n",
       "      <th>1</th>\n",
       "      <td>2009-01-18</td>\n",
       "      <td>2010</td>\n",
       "      <td>Bob Barr</td>\n",
       "      <td>R</td>\n",
       "      <td>GA</td>\n",
       "      <td>L</td>\n",
       "      <td>214799</td>\n",
       "      <td>Retired</td>\n",
       "      <td>None</td>\n",
       "      <td>NaN</td>\n",
       "      <td>15</td>\n",
       "      <td>M</td>\n",
       "      <td>CARROLLTON</td>\n",
       "      <td>TX</td>\n",
       "      <td>500</td>\n",
       "    </tr>\n",
       "    <tr>\n",
       "      <th>2</th>\n",
       "      <td>2009-03-30</td>\n",
       "      <td>2010</td>\n",
       "      <td>Hillary Clinton</td>\n",
       "      <td>D</td>\n",
       "      <td>NY</td>\n",
       "      <td>N</td>\n",
       "      <td>-9065</td>\n",
       "      <td>NaN</td>\n",
       "      <td>NaN</td>\n",
       "      <td>NaN</td>\n",
       "      <td>22Y</td>\n",
       "      <td>F</td>\n",
       "      <td>WOODINVILLE</td>\n",
       "      <td>WA</td>\n",
       "      <td>-300</td>\n",
       "    </tr>\n",
       "    <tr>\n",
       "      <th>3</th>\n",
       "      <td>2009-03-30</td>\n",
       "      <td>2010</td>\n",
       "      <td>Hillary Clinton</td>\n",
       "      <td>D</td>\n",
       "      <td>NY</td>\n",
       "      <td>I</td>\n",
       "      <td>16841210</td>\n",
       "      <td>NaN</td>\n",
       "      <td>NaN</td>\n",
       "      <td>NaN</td>\n",
       "      <td>22Y</td>\n",
       "      <td>F</td>\n",
       "      <td>WOODINVILLE</td>\n",
       "      <td>WA</td>\n",
       "      <td>-300</td>\n",
       "    </tr>\n",
       "    <tr>\n",
       "      <th>4</th>\n",
       "      <td>2009-03-30</td>\n",
       "      <td>2010</td>\n",
       "      <td>Hillary Clinton</td>\n",
       "      <td>D</td>\n",
       "      <td>NY</td>\n",
       "      <td>I</td>\n",
       "      <td>16841210</td>\n",
       "      <td>NaN</td>\n",
       "      <td>NaN</td>\n",
       "      <td>NaN</td>\n",
       "      <td>22Y</td>\n",
       "      <td>F</td>\n",
       "      <td>WOODINVILLE</td>\n",
       "      <td>WA</td>\n",
       "      <td>-300</td>\n",
       "    </tr>\n",
       "  </tbody>\n",
       "</table>\n",
       "</div>"
      ],
      "text/plain": [
       "        date  cycle   candidate_name party state_run_for recip_code  \\\n",
       "0 2009-01-13   2010      John McCain     R            AZ          W   \n",
       "1 2009-01-18   2010         Bob Barr     R            GA          L   \n",
       "2 2009-03-30   2010  Hillary Clinton     D            NY          N   \n",
       "3 2009-03-30   2010  Hillary Clinton     D            NY          I   \n",
       "4 2009-03-30   2010  Hillary Clinton     D            NY          I   \n",
       "\n",
       "   raised_total org_name employer ult_org type gender         city state  \\\n",
       "0       5239565      NaN      NaN     NaN  22Y      F     TORRANCE    CA   \n",
       "1        214799  Retired     None     NaN  15       M   CARROLLTON    TX   \n",
       "2         -9065      NaN      NaN     NaN  22Y      F  WOODINVILLE    WA   \n",
       "3      16841210      NaN      NaN     NaN  22Y      F  WOODINVILLE    WA   \n",
       "4      16841210      NaN      NaN     NaN  22Y      F  WOODINVILLE    WA   \n",
       "\n",
       "   amount  \n",
       "0     -25  \n",
       "1     500  \n",
       "2    -300  \n",
       "3    -300  \n",
       "4    -300  "
      ]
     },
     "execution_count": 10,
     "metadata": {},
     "output_type": "execute_result"
    }
   ],
   "source": [
    "sen_2010.head()"
   ]
  },
  {
   "cell_type": "code",
   "execution_count": 11,
   "metadata": {},
   "outputs": [
    {
     "data": {
      "text/plain": [
       "NY    622578\n",
       "VT    136864\n",
       "WI     62050\n",
       "PA     54194\n",
       "AZ     53896\n",
       "Name: state_run_for, dtype: int64"
      ]
     },
     "execution_count": 11,
     "metadata": {},
     "output_type": "execute_result"
    }
   ],
   "source": [
    "# Top State Contests in 2016\n",
    "sen_2016['state_run_for'].value_counts().head(5)"
   ]
  },
  {
   "cell_type": "code",
   "execution_count": 12,
   "metadata": {},
   "outputs": [
    {
     "data": {
      "text/plain": [
       "candidate_name  recip_code\n",
       "Russ Feingold   I             17520\n",
       "                W             11680\n",
       "                N              8760\n",
       "                L              2920\n",
       "                C              2920\n",
       "dtype: int64"
      ]
     },
     "execution_count": 12,
     "metadata": {},
     "output_type": "execute_result"
    }
   ],
   "source": [
    "# Why so many different recip codes for the same cycle? Are these not accurate?\n",
    "sample_candidate = 'Russ Feingold'\n",
    "sen_2016[sen_2016['candidate_name']==sample_candidate][['candidate_name', 'recip_code']].value_counts()"
   ]
  },
  {
   "cell_type": "code",
   "execution_count": 13,
   "metadata": {},
   "outputs": [
    {
     "data": {
      "image/png": "[encoded data removed]",
      "text/plain": [
       "<Figure size 432x288 with 1 Axes>"
      ]
     },
     "metadata": {
      "needs_background": "light"
     },
     "output_type": "display_data"
    }
   ],
   "source": [
    "small_dollar_donors = sen_2016[(sen_2016['amount']<10_000)&(sen_2016['amount']>0)]['amount']\n",
    "sns.boxplot(small_dollar_donors);"
   ]
  },
  {
   "cell_type": "markdown",
   "metadata": {},
   "source": [
    "## Largest Number of Individual Donors"
   ]
  },
  {
   "cell_type": "code",
   "execution_count": 14,
   "metadata": {},
   "outputs": [],
   "source": [
    "def num_donations(df):\n",
    "    return df['candidate_name'].value_counts().sort_values(ascending=False).head(10)"
   ]
  },
  {
   "cell_type": "code",
   "execution_count": 15,
   "metadata": {
    "scrolled": true
   },
   "outputs": [
    {
     "data": {
      "text/plain": [
       "Hillary Clinton      564466\n",
       "Bernie Sanders       125616\n",
       "John McCain           50312\n",
       "Russ Feingold         43800\n",
       "Charles E Schumer     40428\n",
       "Marco Rubio           37653\n",
       "Patty Murray          37362\n",
       "Ted Cruz              32110\n",
       "Pat Toomey            31136\n",
       "Ron Wyden             28743\n",
       "Name: candidate_name, dtype: int64"
      ]
     },
     "execution_count": 15,
     "metadata": {},
     "output_type": "execute_result"
    }
   ],
   "source": [
    "num_donations(sen_2016)"
   ]
  },
  {
   "cell_type": "code",
   "execution_count": 16,
   "metadata": {},
   "outputs": [
    {
     "data": {
      "text/plain": [
       "Mitch McConnell    152334\n",
       "Barack Obama       111468\n",
       "Mark Udall         105008\n",
       "Mark Warner         89892\n",
       "Jeanne Shaheen      81576\n",
       "Mary L Landrieu     72621\n",
       "Lindsey Graham      62271\n",
       "Dick Durbin         55788\n",
       "Ed Markey           54812\n",
       "John Cornyn         51000\n",
       "Name: candidate_name, dtype: int64"
      ]
     },
     "execution_count": 16,
     "metadata": {},
     "output_type": "execute_result"
    }
   ],
   "source": [
    "num_donations(sen_2014)"
   ]
  },
  {
   "cell_type": "code",
   "execution_count": 17,
   "metadata": {},
   "outputs": [
    {
     "data": {
      "text/plain": [
       "Barbara Boxer         339898\n",
       "John McCain           203490\n",
       "Russ Feingold         197040\n",
       "Arlen Specter         172536\n",
       "Harry Reid            162876\n",
       "Patty Murray          147303\n",
       "Pat Toomey            116136\n",
       "Blanche Lincoln        96540\n",
       "Kirsten Gillibrand     78928\n",
       "Charles E Schumer      78597\n",
       "Name: candidate_name, dtype: int64"
      ]
     },
     "execution_count": 17,
     "metadata": {},
     "output_type": "execute_result"
    }
   ],
   "source": [
    "num_donations(sen_2010)"
   ]
  },
  {
   "cell_type": "markdown",
   "metadata": {},
   "source": [
    "## Total Raised Through Individual Contributions"
   ]
  },
  {
   "cell_type": "code",
   "execution_count": 18,
   "metadata": {},
   "outputs": [],
   "source": [
    "def total_raised(df):\n",
    "    return df.groupby(by='candidate_name')[['candidate_name', 'amount']].sum().sort_values(\n",
    "                            by='amount', ascending=False).head(10)"
   ]
  },
  {
   "cell_type": "code",
   "execution_count": 19,
   "metadata": {},
   "outputs": [
    {
     "data": {
      "text/html": [
       "<div>\n",
       "<style scoped>\n",
       "    .dataframe tbody tr th:only-of-type {\n",
       "        vertical-align: middle;\n",
       "    }\n",
       "\n",
       "    .dataframe tbody tr th {\n",
       "        vertical-align: top;\n",
       "    }\n",
       "\n",
       "    .dataframe thead th {\n",
       "        text-align: right;\n",
       "    }\n",
       "</style>\n",
       "<table border=\"1\" class=\"dataframe\">\n",
       "  <thead>\n",
       "    <tr style=\"text-align: right;\">\n",
       "      <th></th>\n",
       "      <th>amount</th>\n",
       "    </tr>\n",
       "    <tr>\n",
       "      <th>candidate_name</th>\n",
       "      <th></th>\n",
       "    </tr>\n",
       "  </thead>\n",
       "  <tbody>\n",
       "    <tr>\n",
       "      <th>Hillary Clinton</th>\n",
       "      <td>840363790</td>\n",
       "    </tr>\n",
       "    <tr>\n",
       "      <th>Bernie Sanders</th>\n",
       "      <td>115017456</td>\n",
       "    </tr>\n",
       "    <tr>\n",
       "      <th>Charles E Schumer</th>\n",
       "      <td>72382905</td>\n",
       "    </tr>\n",
       "    <tr>\n",
       "      <th>John McCain</th>\n",
       "      <td>57073150</td>\n",
       "    </tr>\n",
       "    <tr>\n",
       "      <th>Ron Wyden</th>\n",
       "      <td>45559501</td>\n",
       "    </tr>\n",
       "    <tr>\n",
       "      <th>Russ Feingold</th>\n",
       "      <td>38217375</td>\n",
       "    </tr>\n",
       "    <tr>\n",
       "      <th>Marco Rubio</th>\n",
       "      <td>32777718</td>\n",
       "    </tr>\n",
       "    <tr>\n",
       "      <th>Lindsey Graham</th>\n",
       "      <td>31867176</td>\n",
       "    </tr>\n",
       "    <tr>\n",
       "      <th>Pat Toomey</th>\n",
       "      <td>31217704</td>\n",
       "    </tr>\n",
       "    <tr>\n",
       "      <th>Patty Murray</th>\n",
       "      <td>28470442</td>\n",
       "    </tr>\n",
       "  </tbody>\n",
       "</table>\n",
       "</div>"
      ],
      "text/plain": [
       "                      amount\n",
       "candidate_name              \n",
       "Hillary Clinton    840363790\n",
       "Bernie Sanders     115017456\n",
       "Charles E Schumer   72382905\n",
       "John McCain         57073150\n",
       "Ron Wyden           45559501\n",
       "Russ Feingold       38217375\n",
       "Marco Rubio         32777718\n",
       "Lindsey Graham      31867176\n",
       "Pat Toomey          31217704\n",
       "Patty Murray        28470442"
      ]
     },
     "execution_count": 19,
     "metadata": {},
     "output_type": "execute_result"
    }
   ],
   "source": [
    "total_raised(sen_2016)"
   ]
  },
  {
   "cell_type": "code",
   "execution_count": 20,
   "metadata": {},
   "outputs": [
    {
     "data": {
      "text/html": [
       "<div>\n",
       "<style scoped>\n",
       "    .dataframe tbody tr th:only-of-type {\n",
       "        vertical-align: middle;\n",
       "    }\n",
       "\n",
       "    .dataframe tbody tr th {\n",
       "        vertical-align: top;\n",
       "    }\n",
       "\n",
       "    .dataframe thead th {\n",
       "        text-align: right;\n",
       "    }\n",
       "</style>\n",
       "<table border=\"1\" class=\"dataframe\">\n",
       "  <thead>\n",
       "    <tr style=\"text-align: right;\">\n",
       "      <th></th>\n",
       "      <th>amount</th>\n",
       "    </tr>\n",
       "    <tr>\n",
       "      <th>candidate_name</th>\n",
       "      <th></th>\n",
       "    </tr>\n",
       "  </thead>\n",
       "  <tbody>\n",
       "    <tr>\n",
       "      <th>Mitch McConnell</th>\n",
       "      <td>188592124</td>\n",
       "    </tr>\n",
       "    <tr>\n",
       "      <th>Mark Warner</th>\n",
       "      <td>94432563</td>\n",
       "    </tr>\n",
       "    <tr>\n",
       "      <th>Mark Udall</th>\n",
       "      <td>84155752</td>\n",
       "    </tr>\n",
       "    <tr>\n",
       "      <th>Mary L Landrieu</th>\n",
       "      <td>67592943</td>\n",
       "    </tr>\n",
       "    <tr>\n",
       "      <th>Lindsey Graham</th>\n",
       "      <td>59395336</td>\n",
       "    </tr>\n",
       "    <tr>\n",
       "      <th>John Cornyn</th>\n",
       "      <td>57526280</td>\n",
       "    </tr>\n",
       "    <tr>\n",
       "      <th>Jeanne Shaheen</th>\n",
       "      <td>56601808</td>\n",
       "    </tr>\n",
       "    <tr>\n",
       "      <th>Ed Markey</th>\n",
       "      <td>53058716</td>\n",
       "    </tr>\n",
       "    <tr>\n",
       "      <th>Dick Durbin</th>\n",
       "      <td>52950408</td>\n",
       "    </tr>\n",
       "    <tr>\n",
       "      <th>Thad Cochran</th>\n",
       "      <td>39253172</td>\n",
       "    </tr>\n",
       "  </tbody>\n",
       "</table>\n",
       "</div>"
      ],
      "text/plain": [
       "                    amount\n",
       "candidate_name            \n",
       "Mitch McConnell  188592124\n",
       "Mark Warner       94432563\n",
       "Mark Udall        84155752\n",
       "Mary L Landrieu   67592943\n",
       "Lindsey Graham    59395336\n",
       "John Cornyn       57526280\n",
       "Jeanne Shaheen    56601808\n",
       "Ed Markey         53058716\n",
       "Dick Durbin       52950408\n",
       "Thad Cochran      39253172"
      ]
     },
     "execution_count": 20,
     "metadata": {},
     "output_type": "execute_result"
    }
   ],
   "source": [
    "total_raised(sen_2014)"
   ]
  },
  {
   "cell_type": "code",
   "execution_count": 21,
   "metadata": {},
   "outputs": [
    {
     "data": {
      "text/html": [
       "<div>\n",
       "<style scoped>\n",
       "    .dataframe tbody tr th:only-of-type {\n",
       "        vertical-align: middle;\n",
       "    }\n",
       "\n",
       "    .dataframe tbody tr th {\n",
       "        vertical-align: top;\n",
       "    }\n",
       "\n",
       "    .dataframe thead th {\n",
       "        text-align: right;\n",
       "    }\n",
       "</style>\n",
       "<table border=\"1\" class=\"dataframe\">\n",
       "  <thead>\n",
       "    <tr style=\"text-align: right;\">\n",
       "      <th></th>\n",
       "      <th>amount</th>\n",
       "    </tr>\n",
       "    <tr>\n",
       "      <th>candidate_name</th>\n",
       "      <th></th>\n",
       "    </tr>\n",
       "  </thead>\n",
       "  <tbody>\n",
       "    <tr>\n",
       "      <th>Barbara Boxer</th>\n",
       "      <td>215778977</td>\n",
       "    </tr>\n",
       "    <tr>\n",
       "      <th>Harry Reid</th>\n",
       "      <td>191305590</td>\n",
       "    </tr>\n",
       "    <tr>\n",
       "      <th>Linda McMahon</th>\n",
       "      <td>159317952</td>\n",
       "    </tr>\n",
       "    <tr>\n",
       "      <th>John R Raese</th>\n",
       "      <td>156163634</td>\n",
       "    </tr>\n",
       "    <tr>\n",
       "      <th>Charles E Schumer</th>\n",
       "      <td>120675663</td>\n",
       "    </tr>\n",
       "    <tr>\n",
       "      <th>Patty Murray</th>\n",
       "      <td>92675219</td>\n",
       "    </tr>\n",
       "    <tr>\n",
       "      <th>Pat Toomey</th>\n",
       "      <td>88432616</td>\n",
       "    </tr>\n",
       "    <tr>\n",
       "      <th>Blanche Lincoln</th>\n",
       "      <td>87559665</td>\n",
       "    </tr>\n",
       "    <tr>\n",
       "      <th>Russ Feingold</th>\n",
       "      <td>85016415</td>\n",
       "    </tr>\n",
       "    <tr>\n",
       "      <th>Kirsten Gillibrand</th>\n",
       "      <td>80949864</td>\n",
       "    </tr>\n",
       "  </tbody>\n",
       "</table>\n",
       "</div>"
      ],
      "text/plain": [
       "                       amount\n",
       "candidate_name               \n",
       "Barbara Boxer       215778977\n",
       "Harry Reid          191305590\n",
       "Linda McMahon       159317952\n",
       "John R Raese        156163634\n",
       "Charles E Schumer   120675663\n",
       "Patty Murray         92675219\n",
       "Pat Toomey           88432616\n",
       "Blanche Lincoln      87559665\n",
       "Russ Feingold        85016415\n",
       "Kirsten Gillibrand   80949864"
      ]
     },
     "execution_count": 21,
     "metadata": {},
     "output_type": "execute_result"
    }
   ],
   "source": [
    "total_raised(sen_2010)"
   ]
  },
  {
   "cell_type": "markdown",
   "metadata": {},
   "source": [
    "## Donation timestamps?"
   ]
  },
  {
   "cell_type": "code",
   "execution_count": 22,
   "metadata": {},
   "outputs": [],
   "source": [
    "def time_window(Series):\n",
    "    return (min(Series).strftime(\"%b-%d-%Y\"), max(Series).strftime(\"%b-%d-%Y\"))"
   ]
  },
  {
   "cell_type": "code",
   "execution_count": 23,
   "metadata": {},
   "outputs": [
    {
     "data": {
      "text/plain": [
       "('Jun-02-2011', 'Jul-26-2016')"
      ]
     },
     "execution_count": 23,
     "metadata": {},
     "output_type": "execute_result"
    }
   ],
   "source": [
    "# Timeseries window for 2016 cycle donations ?\n",
    "# Starts way too early and ends in July???\n",
    "time_window(sen_2016['date'])"
   ]
  },
  {
   "cell_type": "code",
   "execution_count": 24,
   "metadata": {},
   "outputs": [
    {
     "data": {
      "text/plain": [
       "['Dec-26-1926', 'May-30-1916', 'Oct-02-1918', 'Oct-03-1918', 'Sep-15-1955']"
      ]
     },
     "execution_count": 24,
     "metadata": {},
     "output_type": "execute_result"
    }
   ],
   "source": [
    "# 2014 cycle has even more bad data\n",
    "sorted(set([day.strftime(\"%b-%d-%Y\") for day in sen_2014['date'].sort_values().head(20)]))"
   ]
  },
  {
   "cell_type": "code",
   "execution_count": null,
   "metadata": {},
   "outputs": [],
   "source": []
  }
 ],
 "metadata": {
  "kernelspec": {
   "display_name": "Python 3",
   "language": "python",
   "name": "python3"
  },
  "language_info": {
   "codemirror_mode": {
    "name": "ipython",
    "version": 3
   },
   "file_extension": ".py",
   "mimetype": "text/x-python",
   "name": "python",
   "nbconvert_exporter": "python",
   "pygments_lexer": "ipython3",
   "version": "3.8.5"
  }
 },
 "nbformat": 4,
 "nbformat_minor": 4
}
