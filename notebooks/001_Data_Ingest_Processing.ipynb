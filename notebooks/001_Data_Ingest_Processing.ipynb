{
 "cells": [
  {
   "cell_type": "markdown",
   "metadata": {},
   "source": [
    "# Campaign Finance Capstone"
   ]
  },
  {
   "cell_type": "code",
   "execution_count": 1,
   "metadata": {},
   "outputs": [],
   "source": [
    "import pandas as pd\n",
    "import numpy as np\n",
    "import matplotlib.pyplot as plt\n",
    "import seaborn as sns\n",
    "\n",
    "import warnings\n",
    "warnings.filterwarnings('ignore')"
   ]
  },
  {
   "cell_type": "markdown",
   "metadata": {},
   "source": [
    "### Import Files"
   ]
  },
  {
   "cell_type": "code",
   "execution_count": 2,
   "metadata": {},
   "outputs": [],
   "source": [
    "sen_2016 = pd.read_csv('../data/2016-SEN.csv')\n",
    "sen_2014 = pd.read_csv('../data/2014-SEN.csv')\n",
    "sen_2012 = pd.read_csv('../data/2012-SEN.csv')\n",
    "sen_2010 = pd.read_csv('../data/2010-SEN.csv')"
   ]
  },
  {
   "cell_type": "markdown",
   "metadata": {},
   "source": [
    "### Pre-processing"
   ]
  },
  {
   "cell_type": "code",
   "execution_count": 3,
   "metadata": {},
   "outputs": [],
   "source": [
    "def clean_df(df):\n",
    "    df['first_last_party'] = [full_name[:-4] for full_name in df['first_last_party']]\n",
    "    df['dist_id_run_for'] = [office[:2] for office in df['dist_id_run_for']]\n",
    "    df['recip_code'] = [code[-1] for code in df['recip_code']]\n",
    "    df.rename(columns={'first_last_party':'candidate_name', 'dist_id_run_for':'state_run_for'}, inplace=True)\n",
    "    df['date_donated'] = pd.to_datetime(df['date_donated'])\n",
    "    return df"
   ]
  },
  {
   "cell_type": "code",
   "execution_count": 4,
   "metadata": {},
   "outputs": [],
   "source": [
    "# Pre-process datasets\n",
    "sen_2016 = clean_df(sen_2016)\n",
    "sen_2014 = clean_df(sen_2014)\n",
    "sen_2012 = clean_df(sen_2012)\n",
    "sen_2010 = clean_df(sen_2010)"
   ]
  },
  {
   "cell_type": "code",
   "execution_count": 5,
   "metadata": {},
   "outputs": [],
   "source": [
    "def add_commas(number):\n",
    "    n = str(number)\n",
    "    \n",
    "    if len(n)>6:\n",
    "        return n[:-6]+','+n[-6:-3]+','+n[-3:]\n",
    "    elif len(n)>3:\n",
    "        return n[:-3]+','+n[-3:]\n",
    "    else:\n",
    "        return number"
   ]
  },
  {
   "cell_type": "code",
   "execution_count": 6,
   "metadata": {},
   "outputs": [
    {
     "name": "stdout",
     "output_type": "stream",
     "text": [
      "2016 Sen - 800,621 records\n",
      "2014 Sen - 2,232,686 records\n",
      "2012 Sen - 3,426,346 records\n",
      "2010 Sen - 4,261,836 records\n"
     ]
    }
   ],
   "source": [
    "print(f\"2016 Sen - {add_commas(sen_2016.shape[0])} records\")\n",
    "print(f\"2014 Sen - {add_commas(sen_2014.shape[0])} records\")\n",
    "print(f\"2012 Sen - {add_commas(sen_2012.shape[0])} records\")\n",
    "print(f\"2010 Sen - {add_commas(sen_2010.shape[0])} records\")"
   ]
  },
  {
   "cell_type": "markdown",
   "metadata": {},
   "source": [
    "## EDA"
   ]
  },
  {
   "cell_type": "code",
   "execution_count": 7,
   "metadata": {},
   "outputs": [
    {
     "data": {
      "text/html": [
       "<div>\n",
       "<style scoped>\n",
       "    .dataframe tbody tr th:only-of-type {\n",
       "        vertical-align: middle;\n",
       "    }\n",
       "\n",
       "    .dataframe tbody tr th {\n",
       "        vertical-align: top;\n",
       "    }\n",
       "\n",
       "    .dataframe thead th {\n",
       "        text-align: right;\n",
       "    }\n",
       "</style>\n",
       "<table border=\"1\" class=\"dataframe\">\n",
       "  <thead>\n",
       "    <tr style=\"text-align: right;\">\n",
       "      <th></th>\n",
       "      <th>date_donated</th>\n",
       "      <th>cycle</th>\n",
       "      <th>candidate_name</th>\n",
       "      <th>party</th>\n",
       "      <th>state_run_for</th>\n",
       "      <th>recip_code</th>\n",
       "      <th>raised_total</th>\n",
       "      <th>org_name</th>\n",
       "      <th>employer</th>\n",
       "      <th>ult_org</th>\n",
       "      <th>type</th>\n",
       "      <th>gender</th>\n",
       "      <th>city</th>\n",
       "      <th>state</th>\n",
       "      <th>amount</th>\n",
       "    </tr>\n",
       "  </thead>\n",
       "  <tbody>\n",
       "    <tr>\n",
       "      <th>2232681</th>\n",
       "      <td>2013-11-27</td>\n",
       "      <td>2014</td>\n",
       "      <td>Jeff Merkley</td>\n",
       "      <td>D</td>\n",
       "      <td>OR</td>\n",
       "      <td>W</td>\n",
       "      <td>7913431</td>\n",
       "      <td>[24T Contribution]</td>\n",
       "      <td>THE URBAN INSTITUTE</td>\n",
       "      <td>NaN</td>\n",
       "      <td>24T</td>\n",
       "      <td>F</td>\n",
       "      <td>SILVER SPRING</td>\n",
       "      <td>MD</td>\n",
       "      <td>500</td>\n",
       "    </tr>\n",
       "    <tr>\n",
       "      <th>2232682</th>\n",
       "      <td>2013-11-27</td>\n",
       "      <td>2014</td>\n",
       "      <td>Jeff Merkley</td>\n",
       "      <td>D</td>\n",
       "      <td>OR</td>\n",
       "      <td>I</td>\n",
       "      <td>454726</td>\n",
       "      <td>[24T Contribution]</td>\n",
       "      <td>THE URBAN INSTITUTE</td>\n",
       "      <td>NaN</td>\n",
       "      <td>24T</td>\n",
       "      <td>F</td>\n",
       "      <td>SILVER SPRING</td>\n",
       "      <td>MD</td>\n",
       "      <td>500</td>\n",
       "    </tr>\n",
       "    <tr>\n",
       "      <th>2232683</th>\n",
       "      <td>2013-11-27</td>\n",
       "      <td>2014</td>\n",
       "      <td>Jeff Merkley</td>\n",
       "      <td>D</td>\n",
       "      <td>OR</td>\n",
       "      <td>W</td>\n",
       "      <td>7762872</td>\n",
       "      <td>[24T Contribution]</td>\n",
       "      <td>THE URBAN INSTITUTE</td>\n",
       "      <td>NaN</td>\n",
       "      <td>24T</td>\n",
       "      <td>F</td>\n",
       "      <td>SILVER SPRING</td>\n",
       "      <td>MD</td>\n",
       "      <td>500</td>\n",
       "    </tr>\n",
       "    <tr>\n",
       "      <th>2232684</th>\n",
       "      <td>2013-06-30</td>\n",
       "      <td>2014</td>\n",
       "      <td>Ann Kirkpatrick</td>\n",
       "      <td>D</td>\n",
       "      <td>AZ</td>\n",
       "      <td>C</td>\n",
       "      <td>1476839</td>\n",
       "      <td>[24I Contribution]</td>\n",
       "      <td>NaN</td>\n",
       "      <td>NaN</td>\n",
       "      <td>24I</td>\n",
       "      <td></td>\n",
       "      <td>KENSINGTON</td>\n",
       "      <td>MD</td>\n",
       "      <td>1000</td>\n",
       "    </tr>\n",
       "    <tr>\n",
       "      <th>2232685</th>\n",
       "      <td>2013-06-30</td>\n",
       "      <td>2014</td>\n",
       "      <td>Ann Kirkpatrick</td>\n",
       "      <td>D</td>\n",
       "      <td>AZ</td>\n",
       "      <td>C</td>\n",
       "      <td>1476839</td>\n",
       "      <td>[24I Contribution]</td>\n",
       "      <td>NaN</td>\n",
       "      <td>NaN</td>\n",
       "      <td>24I</td>\n",
       "      <td></td>\n",
       "      <td>KENSINGTON</td>\n",
       "      <td>MD</td>\n",
       "      <td>1000</td>\n",
       "    </tr>\n",
       "  </tbody>\n",
       "</table>\n",
       "</div>"
      ],
      "text/plain": [
       "        date_donated  cycle   candidate_name party state_run_for recip_code  \\\n",
       "2232681   2013-11-27   2014     Jeff Merkley     D            OR          W   \n",
       "2232682   2013-11-27   2014     Jeff Merkley     D            OR          I   \n",
       "2232683   2013-11-27   2014     Jeff Merkley     D            OR          W   \n",
       "2232684   2013-06-30   2014  Ann Kirkpatrick     D            AZ          C   \n",
       "2232685   2013-06-30   2014  Ann Kirkpatrick     D            AZ          C   \n",
       "\n",
       "         raised_total            org_name             employer ult_org type  \\\n",
       "2232681       7913431  [24T Contribution]  THE URBAN INSTITUTE     NaN  24T   \n",
       "2232682        454726  [24T Contribution]  THE URBAN INSTITUTE     NaN  24T   \n",
       "2232683       7762872  [24T Contribution]  THE URBAN INSTITUTE     NaN  24T   \n",
       "2232684       1476839  [24I Contribution]                  NaN     NaN  24I   \n",
       "2232685       1476839  [24I Contribution]                  NaN     NaN  24I   \n",
       "\n",
       "        gender           city state  amount  \n",
       "2232681      F  SILVER SPRING    MD     500  \n",
       "2232682      F  SILVER SPRING    MD     500  \n",
       "2232683      F  SILVER SPRING    MD     500  \n",
       "2232684            KENSINGTON    MD    1000  \n",
       "2232685            KENSINGTON    MD    1000  "
      ]
     },
     "execution_count": 7,
     "metadata": {},
     "output_type": "execute_result"
    }
   ],
   "source": [
    "sen_2014.tail()"
   ]
  },
  {
   "cell_type": "code",
   "execution_count": 8,
   "metadata": {},
   "outputs": [
    {
     "data": {
      "text/plain": [
       "WI    62050\n",
       "NY    58112\n",
       "PA    54194\n",
       "AZ    53896\n",
       "FL    49259\n",
       "Name: state_run_for, dtype: int64"
      ]
     },
     "execution_count": 8,
     "metadata": {},
     "output_type": "execute_result"
    }
   ],
   "source": [
    "# Top State Contests in 2016\n",
    "sen_2016['state_run_for'].value_counts().head(5)"
   ]
  },
  {
   "cell_type": "code",
   "execution_count": 9,
   "metadata": {},
   "outputs": [
    {
     "data": {
      "text/plain": [
       "candidate_name  recip_code\n",
       "Russ Feingold   I             17520\n",
       "                W             11680\n",
       "                N              8760\n",
       "                L              2920\n",
       "                C              2920\n",
       "dtype: int64"
      ]
     },
     "execution_count": 9,
     "metadata": {},
     "output_type": "execute_result"
    }
   ],
   "source": [
    "# Why so many different recip codes for the same cycle? Are these not accurate?\n",
    "sample_candidate = 'Russ Feingold'\n",
    "sen_2016[sen_2016['candidate_name']==sample_candidate][['candidate_name', 'recip_code']].value_counts()"
   ]
  },
  {
   "cell_type": "code",
   "execution_count": 10,
   "metadata": {},
   "outputs": [
    {
     "data": {
      "image/png": "[encoded data removed]",
      "text/plain": [
       "<Figure size 432x288 with 1 Axes>"
      ]
     },
     "metadata": {
      "needs_background": "light"
     },
     "output_type": "display_data"
    }
   ],
   "source": [
    "small_dollar_donors = sen_2016[(sen_2016['amount']<10_000)&(sen_2016['amount']>0)]['amount']\n",
    "sns.boxplot(small_dollar_donors);"
   ]
  },
  {
   "cell_type": "markdown",
   "metadata": {},
   "source": [
    "## Largest Number of Individual Donors"
   ]
  },
  {
   "cell_type": "code",
   "execution_count": 11,
   "metadata": {},
   "outputs": [],
   "source": [
    "def num_donations(df):\n",
    "    return df['candidate_name'].value_counts().sort_values(ascending=False).head(10)"
   ]
  },
  {
   "cell_type": "code",
   "execution_count": 12,
   "metadata": {
    "scrolled": true
   },
   "outputs": [
    {
     "data": {
      "text/plain": [
       "John McCain          50312\n",
       "Russ Feingold        43800\n",
       "Charles E Schumer    40428\n",
       "Marco Rubio          37653\n",
       "Patty Murray         37362\n",
       "Ted Cruz             32110\n",
       "Pat Toomey           31136\n",
       "Ron Wyden            28743\n",
       "Rand Paul            26688\n",
       "Lindsey Graham       24574\n",
       "Name: candidate_name, dtype: int64"
      ]
     },
     "execution_count": 12,
     "metadata": {},
     "output_type": "execute_result"
    }
   ],
   "source": [
    "num_donations(sen_2016)"
   ]
  },
  {
   "cell_type": "code",
   "execution_count": 13,
   "metadata": {},
   "outputs": [
    {
     "data": {
      "text/plain": [
       "Mitch McConnell    152334\n",
       "Mark Udall         105008\n",
       "Mark Warner         89892\n",
       "Jeanne Shaheen      81576\n",
       "Mary L Landrieu     72621\n",
       "Lindsey Graham      62271\n",
       "Dick Durbin         55788\n",
       "Ed Markey           54812\n",
       "John Cornyn         51000\n",
       "Kay R. Hagan        44490\n",
       "Name: candidate_name, dtype: int64"
      ]
     },
     "execution_count": 13,
     "metadata": {},
     "output_type": "execute_result"
    }
   ],
   "source": [
    "num_donations(sen_2014)"
   ]
  },
  {
   "cell_type": "code",
   "execution_count": 14,
   "metadata": {},
   "outputs": [
    {
     "data": {
      "text/plain": [
       "Sherrod Brown         192742\n",
       "Rick Santorum         185174\n",
       "Elizabeth Warren      150824\n",
       "Scott Brown           129095\n",
       "Claire McCaskill      122353\n",
       "Bill Nelson            92817\n",
       "George Allen           83936\n",
       "Kirsten Gillibrand     83584\n",
       "Bob Kerrey             82782\n",
       "Tammy Baldwin          80412\n",
       "Name: candidate_name, dtype: int64"
      ]
     },
     "execution_count": 14,
     "metadata": {},
     "output_type": "execute_result"
    }
   ],
   "source": [
    "num_donations(sen_2012)"
   ]
  },
  {
   "cell_type": "code",
   "execution_count": 15,
   "metadata": {},
   "outputs": [
    {
     "data": {
      "text/plain": [
       "Barbara Boxer         339898\n",
       "John McCain           203490\n",
       "Russ Feingold         197040\n",
       "Arlen Specter         172536\n",
       "Harry Reid            162876\n",
       "Patty Murray          147303\n",
       "Pat Toomey            116136\n",
       "Blanche Lincoln        96540\n",
       "Kirsten Gillibrand     78928\n",
       "Charles E Schumer      78597\n",
       "Name: candidate_name, dtype: int64"
      ]
     },
     "execution_count": 15,
     "metadata": {},
     "output_type": "execute_result"
    }
   ],
   "source": [
    "num_donations(sen_2010)"
   ]
  },
  {
   "cell_type": "markdown",
   "metadata": {},
   "source": [
    "## Total Raised Through Individual Contributions"
   ]
  },
  {
   "cell_type": "code",
   "execution_count": 16,
   "metadata": {},
   "outputs": [],
   "source": [
    "def total_raised(df):\n",
    "    return df.groupby(by='candidate_name')[['candidate_name', 'amount']].sum().sort_values(\n",
    "                            by='amount', ascending=False).head(10)"
   ]
  },
  {
   "cell_type": "code",
   "execution_count": 17,
   "metadata": {},
   "outputs": [
    {
     "data": {
      "text/html": [
       "<div>\n",
       "<style scoped>\n",
       "    .dataframe tbody tr th:only-of-type {\n",
       "        vertical-align: middle;\n",
       "    }\n",
       "\n",
       "    .dataframe tbody tr th {\n",
       "        vertical-align: top;\n",
       "    }\n",
       "\n",
       "    .dataframe thead th {\n",
       "        text-align: right;\n",
       "    }\n",
       "</style>\n",
       "<table border=\"1\" class=\"dataframe\">\n",
       "  <thead>\n",
       "    <tr style=\"text-align: right;\">\n",
       "      <th></th>\n",
       "      <th>amount</th>\n",
       "    </tr>\n",
       "    <tr>\n",
       "      <th>candidate_name</th>\n",
       "      <th></th>\n",
       "    </tr>\n",
       "  </thead>\n",
       "  <tbody>\n",
       "    <tr>\n",
       "      <th>Charles E Schumer</th>\n",
       "      <td>72382905</td>\n",
       "    </tr>\n",
       "    <tr>\n",
       "      <th>John McCain</th>\n",
       "      <td>57073150</td>\n",
       "    </tr>\n",
       "    <tr>\n",
       "      <th>Ron Wyden</th>\n",
       "      <td>45559501</td>\n",
       "    </tr>\n",
       "    <tr>\n",
       "      <th>Russ Feingold</th>\n",
       "      <td>38217375</td>\n",
       "    </tr>\n",
       "    <tr>\n",
       "      <th>Marco Rubio</th>\n",
       "      <td>32777718</td>\n",
       "    </tr>\n",
       "    <tr>\n",
       "      <th>Lindsey Graham</th>\n",
       "      <td>31867176</td>\n",
       "    </tr>\n",
       "    <tr>\n",
       "      <th>Pat Toomey</th>\n",
       "      <td>31217704</td>\n",
       "    </tr>\n",
       "    <tr>\n",
       "      <th>Patty Murray</th>\n",
       "      <td>28470442</td>\n",
       "    </tr>\n",
       "    <tr>\n",
       "      <th>Ted Cruz</th>\n",
       "      <td>27976942</td>\n",
       "    </tr>\n",
       "    <tr>\n",
       "      <th>Richard Burr</th>\n",
       "      <td>24642352</td>\n",
       "    </tr>\n",
       "  </tbody>\n",
       "</table>\n",
       "</div>"
      ],
      "text/plain": [
       "                     amount\n",
       "candidate_name             \n",
       "Charles E Schumer  72382905\n",
       "John McCain        57073150\n",
       "Ron Wyden          45559501\n",
       "Russ Feingold      38217375\n",
       "Marco Rubio        32777718\n",
       "Lindsey Graham     31867176\n",
       "Pat Toomey         31217704\n",
       "Patty Murray       28470442\n",
       "Ted Cruz           27976942\n",
       "Richard Burr       24642352"
      ]
     },
     "execution_count": 17,
     "metadata": {},
     "output_type": "execute_result"
    }
   ],
   "source": [
    "total_raised(sen_2016)"
   ]
  },
  {
   "cell_type": "code",
   "execution_count": 18,
   "metadata": {},
   "outputs": [
    {
     "data": {
      "text/html": [
       "<div>\n",
       "<style scoped>\n",
       "    .dataframe tbody tr th:only-of-type {\n",
       "        vertical-align: middle;\n",
       "    }\n",
       "\n",
       "    .dataframe tbody tr th {\n",
       "        vertical-align: top;\n",
       "    }\n",
       "\n",
       "    .dataframe thead th {\n",
       "        text-align: right;\n",
       "    }\n",
       "</style>\n",
       "<table border=\"1\" class=\"dataframe\">\n",
       "  <thead>\n",
       "    <tr style=\"text-align: right;\">\n",
       "      <th></th>\n",
       "      <th>amount</th>\n",
       "    </tr>\n",
       "    <tr>\n",
       "      <th>candidate_name</th>\n",
       "      <th></th>\n",
       "    </tr>\n",
       "  </thead>\n",
       "  <tbody>\n",
       "    <tr>\n",
       "      <th>Mitch McConnell</th>\n",
       "      <td>188592124</td>\n",
       "    </tr>\n",
       "    <tr>\n",
       "      <th>Mark Warner</th>\n",
       "      <td>94432563</td>\n",
       "    </tr>\n",
       "    <tr>\n",
       "      <th>Mark Udall</th>\n",
       "      <td>84155752</td>\n",
       "    </tr>\n",
       "    <tr>\n",
       "      <th>Mary L Landrieu</th>\n",
       "      <td>67592943</td>\n",
       "    </tr>\n",
       "    <tr>\n",
       "      <th>Lindsey Graham</th>\n",
       "      <td>59395336</td>\n",
       "    </tr>\n",
       "    <tr>\n",
       "      <th>John Cornyn</th>\n",
       "      <td>57526280</td>\n",
       "    </tr>\n",
       "    <tr>\n",
       "      <th>Jeanne Shaheen</th>\n",
       "      <td>56601808</td>\n",
       "    </tr>\n",
       "    <tr>\n",
       "      <th>Ed Markey</th>\n",
       "      <td>53058716</td>\n",
       "    </tr>\n",
       "    <tr>\n",
       "      <th>Dick Durbin</th>\n",
       "      <td>52950408</td>\n",
       "    </tr>\n",
       "    <tr>\n",
       "      <th>Thad Cochran</th>\n",
       "      <td>39253172</td>\n",
       "    </tr>\n",
       "  </tbody>\n",
       "</table>\n",
       "</div>"
      ],
      "text/plain": [
       "                    amount\n",
       "candidate_name            \n",
       "Mitch McConnell  188592124\n",
       "Mark Warner       94432563\n",
       "Mark Udall        84155752\n",
       "Mary L Landrieu   67592943\n",
       "Lindsey Graham    59395336\n",
       "John Cornyn       57526280\n",
       "Jeanne Shaheen    56601808\n",
       "Ed Markey         53058716\n",
       "Dick Durbin       52950408\n",
       "Thad Cochran      39253172"
      ]
     },
     "execution_count": 18,
     "metadata": {},
     "output_type": "execute_result"
    }
   ],
   "source": [
    "total_raised(sen_2014)"
   ]
  },
  {
   "cell_type": "markdown",
   "metadata": {},
   "source": [
    "#### total_raised(sen_2012)"
   ]
  },
  {
   "cell_type": "code",
   "execution_count": 19,
   "metadata": {},
   "outputs": [
    {
     "data": {
      "text/html": [
       "<div>\n",
       "<style scoped>\n",
       "    .dataframe tbody tr th:only-of-type {\n",
       "        vertical-align: middle;\n",
       "    }\n",
       "\n",
       "    .dataframe tbody tr th {\n",
       "        vertical-align: top;\n",
       "    }\n",
       "\n",
       "    .dataframe thead th {\n",
       "        text-align: right;\n",
       "    }\n",
       "</style>\n",
       "<table border=\"1\" class=\"dataframe\">\n",
       "  <thead>\n",
       "    <tr style=\"text-align: right;\">\n",
       "      <th></th>\n",
       "      <th>amount</th>\n",
       "    </tr>\n",
       "    <tr>\n",
       "      <th>candidate_name</th>\n",
       "      <th></th>\n",
       "    </tr>\n",
       "  </thead>\n",
       "  <tbody>\n",
       "    <tr>\n",
       "      <th>Barbara Boxer</th>\n",
       "      <td>215778977</td>\n",
       "    </tr>\n",
       "    <tr>\n",
       "      <th>Harry Reid</th>\n",
       "      <td>191305590</td>\n",
       "    </tr>\n",
       "    <tr>\n",
       "      <th>Linda McMahon</th>\n",
       "      <td>159317952</td>\n",
       "    </tr>\n",
       "    <tr>\n",
       "      <th>John R Raese</th>\n",
       "      <td>156163634</td>\n",
       "    </tr>\n",
       "    <tr>\n",
       "      <th>Charles E Schumer</th>\n",
       "      <td>120675663</td>\n",
       "    </tr>\n",
       "    <tr>\n",
       "      <th>Patty Murray</th>\n",
       "      <td>92675219</td>\n",
       "    </tr>\n",
       "    <tr>\n",
       "      <th>Pat Toomey</th>\n",
       "      <td>88432616</td>\n",
       "    </tr>\n",
       "    <tr>\n",
       "      <th>Blanche Lincoln</th>\n",
       "      <td>87559665</td>\n",
       "    </tr>\n",
       "    <tr>\n",
       "      <th>Russ Feingold</th>\n",
       "      <td>85016415</td>\n",
       "    </tr>\n",
       "    <tr>\n",
       "      <th>Kirsten Gillibrand</th>\n",
       "      <td>80949864</td>\n",
       "    </tr>\n",
       "  </tbody>\n",
       "</table>\n",
       "</div>"
      ],
      "text/plain": [
       "                       amount\n",
       "candidate_name               \n",
       "Barbara Boxer       215778977\n",
       "Harry Reid          191305590\n",
       "Linda McMahon       159317952\n",
       "John R Raese        156163634\n",
       "Charles E Schumer   120675663\n",
       "Patty Murray         92675219\n",
       "Pat Toomey           88432616\n",
       "Blanche Lincoln      87559665\n",
       "Russ Feingold        85016415\n",
       "Kirsten Gillibrand   80949864"
      ]
     },
     "execution_count": 19,
     "metadata": {},
     "output_type": "execute_result"
    }
   ],
   "source": [
    "total_raised(sen_2010)"
   ]
  },
  {
   "cell_type": "markdown",
   "metadata": {},
   "source": [
    "## Donation timestamps?"
   ]
  },
  {
   "cell_type": "code",
   "execution_count": 20,
   "metadata": {},
   "outputs": [],
   "source": [
    "def time_window(Series):\n",
    "    return (min(Series).strftime(\"%b-%d-%Y\"), max(Series).strftime(\"%b-%d-%Y\"))"
   ]
  },
  {
   "cell_type": "code",
   "execution_count": 21,
   "metadata": {},
   "outputs": [
    {
     "data": {
      "text/plain": [
       "('Jun-02-2011', 'Jul-26-2016')"
      ]
     },
     "execution_count": 21,
     "metadata": {},
     "output_type": "execute_result"
    }
   ],
   "source": [
    "# Timeseries window for 2016 cycle donations ?\n",
    "# Starts way too early and ends in July???\n",
    "time_window(sen_2016['date_donated'])"
   ]
  },
  {
   "cell_type": "code",
   "execution_count": 22,
   "metadata": {},
   "outputs": [
    {
     "data": {
      "text/plain": [
       "['Dec-26-1926', 'May-30-1916', 'Oct-02-1918', 'Oct-03-1918', 'Sep-15-1955']"
      ]
     },
     "execution_count": 22,
     "metadata": {},
     "output_type": "execute_result"
    }
   ],
   "source": [
    "# 2014 cycle has even more bad data\n",
    "sorted(set([day.strftime(\"%b-%d-%Y\") for day in sen_2014['date_donated'].sort_values().head(20)]))"
   ]
  },
  {
   "cell_type": "code",
   "execution_count": null,
   "metadata": {},
   "outputs": [],
   "source": []
  }
 ],
 "metadata": {
  "kernelspec": {
   "display_name": "Python 3",
   "language": "python",
   "name": "python3"
  },
  "language_info": {
   "codemirror_mode": {
    "name": "ipython",
    "version": 3
   },
   "file_extension": ".py",
   "mimetype": "text/x-python",
   "name": "python",
   "nbconvert_exporter": "python",
   "pygments_lexer": "ipython3",
   "version": "3.8.5"
  }
 },
 "nbformat": 4,
 "nbformat_minor": 4
}
